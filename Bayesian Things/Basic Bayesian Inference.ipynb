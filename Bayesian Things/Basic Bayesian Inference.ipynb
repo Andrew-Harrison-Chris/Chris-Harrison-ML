{
 "cells": [
  {
   "cell_type": "markdown",
   "metadata": {},
   "source": [
    "# Simple Bayesian Inference (Using PyMC3)\n",
    "References: https://towardsdatascience.com/conducting-bayesian-inference-in-python-using-pymc3-d407f8d934a5\n",
    "\n",
    "### Idea\n",
    "- We observe some data that we are interseted in doing inference on. In particular, we would like to infer something about the parameter $\\theta$ (this is usually some moment of the distribution such as the mean or variance).\n",
    "- Maximum likelihood estimation tends to overfit, so we incorperate prior information, $P(\\theta)$, as a way of regularizing our estimation.\n",
    "- To do this kind of inference, we utilize bayes theorem:\n",
    "\n",
    "###      $P(\\theta|data) = \\frac{P(data|\\theta)P(\\theta)}{P(data)}$\n",
    "\n",
    "#### $P(\\theta|data)$ - Posterior Distribution\n",
    "#### $P(data|\\theta) = \\prod_{i=1}^{n} P(data_i|\\theta)$ - Likelihood\n",
    "#### $P(\\theta)$ - Prior\n",
    "#### $P(data) = \\sum_{\\theta} P(data|\\theta)P(\\theta) <=> \\int_{\\theta} P(data|\\theta)P(\\theta) $ - Normalizing Constant"
   ]
  },
  {
   "cell_type": "markdown",
   "metadata": {},
   "source": [
    "### Discrete Example\n",
    "- We are interested in determining the probability that a random variable will take on the value 1. We will generate fake data in which the true probability of 1 is 0.35."
   ]
  },
  {
   "cell_type": "code",
   "execution_count": 11,
   "metadata": {},
   "outputs": [
    {
     "name": "stdout",
     "output_type": "stream",
     "text": [
      "Maximum Likelihood Estimate:\n",
      "P(theta = 1) = 0.335\n"
     ]
    }
   ],
   "source": [
    "import pymc3 as pm\n",
    "import numpy as np\n",
    "import matplotlib.pyplot as plt\n",
    "%matplotlib inline\n",
    "\n",
    "# Generate some random binary data\n",
    "X = np.random.choice([0,1],size=1000,p=[0.65,0.35])\n",
    "\n",
    "print(f\"Maximum Likelihood Estimate:\")\n",
    "print(f\"P(theta = 1) = {np.mean(X)}\")"
   ]
  },
  {
   "cell_type": "markdown",
   "metadata": {},
   "source": [
    "- We now define the model. We assume a prior beta distribution and a bernoulli likelihood.\n",
    "\n"
   ]
  },
  {
   "cell_type": "code",
   "execution_count": 12,
   "metadata": {},
   "outputs": [
    {
     "name": "stderr",
     "output_type": "stream",
     "text": [
      "/Users/HarrisonHoffman/opt/anaconda3/lib/python3.7/site-packages/pymc3/sampling.py:468: FutureWarning: In an upcoming release, pm.sample will return an `arviz.InferenceData` object instead of a `MultiTrace` by default. You can pass return_inferencedata=True or return_inferencedata=False to be safe and silence this warning.\n",
      "  FutureWarning,\n",
      "Auto-assigning NUTS sampler...\n",
      "Initializing NUTS using jitter+adapt_diag...\n",
      "Multiprocess sampling (4 chains in 4 jobs)\n",
      "NUTS: [theta]\n"
     ]
    },
    {
     "data": {
      "text/html": [
       "\n",
       "    <div>\n",
       "        <style>\n",
       "            /* Turns off some styling */\n",
       "            progress {\n",
       "                /* gets rid of default border in Firefox and Opera. */\n",
       "                border: none;\n",
       "                /* Needs to be in here for Safari polyfill so background images work as expected. */\n",
       "                background-size: auto;\n",
       "            }\n",
       "            .progress-bar-interrupted, .progress-bar-interrupted::-webkit-progress-bar {\n",
       "                background: #F44336;\n",
       "            }\n",
       "        </style>\n",
       "      <progress value='8000' class='' max='8000' style='width:300px; height:20px; vertical-align: middle;'></progress>\n",
       "      100.00% [8000/8000 00:02<00:00 Sampling 4 chains, 0 divergences]\n",
       "    </div>\n",
       "    "
      ],
      "text/plain": [
       "<IPython.core.display.HTML object>"
      ]
     },
     "metadata": {},
     "output_type": "display_data"
    },
    {
     "name": "stderr",
     "output_type": "stream",
     "text": [
      "Sampling 4 chains for 1_000 tune and 1_000 draw iterations (4_000 + 4_000 draws total) took 21 seconds.\n"
     ]
    }
   ],
   "source": [
    "with pm.Model() as model:\n",
    "    # define the prior\n",
    "    theta = pm.Beta('theta', 2, 2)\n",
    "    \n",
    "    # define the likelihood\n",
    "    data = pm.Bernoulli('data', theta, observed=X)\n",
    "    \n",
    "    # get the samples\n",
    "    trace = pm.sample()"
   ]
  },
  {
   "cell_type": "code",
   "execution_count": 13,
   "metadata": {},
   "outputs": [
    {
     "name": "stderr",
     "output_type": "stream",
     "text": [
      "/Users/HarrisonHoffman/opt/anaconda3/lib/python3.7/site-packages/arviz/utils.py:661: UserWarning: Keyword argument credible_interval has been deprecated Please replace with hdi_prob\n",
      "  (\"Keyword argument credible_interval has been deprecated \" \"Please replace with hdi_prob\"),\n"
     ]
    },
    {
     "data": {
      "image/png": "[encoded data removed]",
      "text/plain": [
       "<Figure size 432x288 with 1 Axes>"
      ]
     },
     "metadata": {
      "needs_background": "light"
     },
     "output_type": "display_data"
    }
   ],
   "source": [
    "# Visualize results\n",
    "with model:\n",
    "    pm.plot_posterior(trace, credible_interval=0.99)"
   ]
  },
  {
   "cell_type": "markdown",
   "metadata": {},
   "source": [
    "- We can see that the mean of the posterior distribution is pretty close to our MLE estimate, however, unlike MLE, we also get a measure of uncertainty. That is, in the above case, we obtained a 99% credible interval. We are able to say, with a probability of 99%, theta is somewhere between 0.3 and 0.37."
   ]
  },
  {
   "cell_type": "code",
   "execution_count": null,
   "metadata": {},
   "outputs": [],
   "source": []
  }
 ],
 "metadata": {
  "kernelspec": {
   "display_name": "Python 3",
   "language": "python",
   "name": "python3"
  },
  "language_info": {
   "codemirror_mode": {
    "name": "ipython",
    "version": 3
   },
   "file_extension": ".py",
   "mimetype": "text/x-python",
   "name": "python",
   "nbconvert_exporter": "python",
   "pygments_lexer": "ipython3",
   "version": "3.7.4"
  }
 },
 "nbformat": 4,
 "nbformat_minor": 2
}
