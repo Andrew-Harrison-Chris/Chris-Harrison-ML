{
 "cells": [
  {
   "cell_type": "markdown",
   "metadata": {},
   "source": [
    "##### Following the series: https://www.youtube.com/playlist?list=PLQVvvaa0QuDcjD5BAw2DxE6OF2tius3V3"
   ]
  },
  {
   "cell_type": "markdown",
   "metadata": {},
   "source": [
    "# Part 1- Neuron Code\n"
   ]
  },
  {
   "cell_type": "code",
   "execution_count": 1,
   "metadata": {},
   "outputs": [],
   "source": [
    "import sys\n",
    "import numpy as np\n",
    "import matplotlib"
   ]
  },
  {
   "cell_type": "markdown",
   "metadata": {},
   "source": [
    "Neuron Computation = $\\sum_{i=0}^{n} w_i * x_i + b$ \n",
    "\n",
    "$n$ is the number of inputs coming into the neuron\n",
    "\n",
    "$w_i$ is the ith weight associated with the ith input\n",
    "\n",
    "$x_i$ is the ith input into the neuron\n",
    "\n",
    "$b$ is a bias term"
   ]
  },
  {
   "cell_type": "code",
   "execution_count": 2,
   "metadata": {},
   "outputs": [
    {
     "data": {
      "text/plain": [
       "37.59"
      ]
     },
     "execution_count": 2,
     "metadata": {},
     "output_type": "execute_result"
    }
   ],
   "source": [
    "# Raw Python: example of simple neuron computation\n",
    "inputs = [1.2,5.3,2.1]\n",
    "weights = [3.1,2.1,9.4]\n",
    "bias = 3\n",
    "\n",
    "output = inputs[0]*weights[0] + inputs[1]*weights[1] + inputs[2]*weights[2] + bias\n",
    "output"
   ]
  },
  {
   "cell_type": "markdown",
   "metadata": {},
   "source": [
    "# Part 2 - Coding a Layer\n",
    "\n",
    "\n",
    "<img src=\"img/net1.png\" style=\"width:200px;height:200px;\"/>"
   ]
  },
  {
   "cell_type": "code",
   "execution_count": 5,
   "metadata": {},
   "outputs": [
    {
     "data": {
      "text/plain": [
       "[4.8, 1.21, 2.385]"
      ]
     },
     "execution_count": 5,
     "metadata": {},
     "output_type": "execute_result"
    }
   ],
   "source": [
    "# Raw Python: Coding a layer with 3 neurons and 4 inputs\n",
    "## We will use numpy later to vectorize all of the computation don't worry (sorry if this is cringy rn)\n",
    "inputs = [1,2,3,2.5]\n",
    "\n",
    "weights1 = [0.2,0.8,-0.5,1]\n",
    "weights2 = [0.5,-0.91,0.26,-0.5]\n",
    "weights3 = [-0.26,-0.27,.17,.87]\n",
    "\n",
    "bias1 = 2\n",
    "bias2 = 3\n",
    "bias3 = 0.5\n",
    "\n",
    "# Notice that output is a 3-dimensional vector (list) since we are coding a layer with 3 neurons\n",
    "outputs = [0,0,0]\n",
    "\n",
    "outputs[0] = inputs[0]*weights1[0] + inputs[1]*weights1[1] + inputs[2]*weights1[2] + inputs[3]*weights1[3] + bias1\n",
    "outputs[1] = inputs[0]*weights2[0] + inputs[1]*weights2[1] + inputs[2]*weights2[2] + inputs[3]*weights2[3] + bias2\n",
    "outputs[2] = inputs[0]*weights3[0] + inputs[1]*weights3[1] + inputs[2]*weights3[2] + inputs[3]*weights3[3] + bias3\n",
    "\n",
    "outputs"
   ]
  },
  {
   "cell_type": "markdown",
   "metadata": {},
   "source": [
    "# Part 3 - The Dot Product\n",
    "\n",
    "### Some dimensionality\n",
    "Array: $l = [1,5,6,2]$, Shape: $(4,)$, Type: 1D array/vector\n",
    "\n",
    "Array: $lol = [[1,5,6,2],[3,2,1,3]]$, Shape: $(2,4)$, Type: 2D array/Matrix\n",
    "\n",
    "Array: $lolol = [[[1,5,6,2],[3,2,1,3]],[[5,2,1,2],[6,4,8,4]],[[2,8,5,3],[1,1,9,4]]] $, Shape: $(3,2,4)$, Type: 3D Array/3-Tensor\n",
    "\n",
    "### Definition\n",
    "Let $u = [u_1,u_2,...,u_n]$ and $v = [v_1,v_2,...,v_n]$ be vectors in $R^n$. The dot product between $u$ and $v$ is defined as $u*v = \\sum_{i=1}^{n} u_i*v_i$\n",
    "              "
   ]
  },
  {
   "cell_type": "code",
   "execution_count": 5,
   "metadata": {},
   "outputs": [
    {
     "name": "stdout",
     "output_type": "stream",
     "text": [
      "[4.8, 1.21, 2.385]\n"
     ]
    }
   ],
   "source": [
    "# Inputs\n",
    "inputs = [1,2,3,2.5]\n",
    "\n",
    "# Weight matrix\n",
    "weights = [[0.2,0.8,-0.5,1],\n",
    "           [0.5,-0.91,0.26,-0.5],\n",
    "           [-0.26,-0.27,.17,.87]]\n",
    "\n",
    "# Vector of biases\n",
    "biases = [2,3,0.5]\n",
    "\n",
    "layer_outputs = [] # Output of current layer\n",
    "\n",
    "# Iterate through each row of the weight matrix and each entry in the bias vector\n",
    "for neuron_weights, neuron_bias in zip(weights,biases):\n",
    "    neuron_output = 0 # Output of the neuron\n",
    "    # Iterate through the inputs and the weights in the current row\n",
    "    for n_input, weight in zip(inputs, neuron_weights):\n",
    "        neuron_output += n_input*weight # Multiply input by associated weight\n",
    "    neuron_output += neuron_bias # Add bias\n",
    "    layer_outputs.append(neuron_output)\n",
    "print(layer_outputs)"
   ]
  },
  {
   "cell_type": "code",
   "execution_count": 8,
   "metadata": {},
   "outputs": [
    {
     "data": {
      "text/plain": [
       "array([4.8  , 1.21 , 2.385])"
      ]
     },
     "execution_count": 8,
     "metadata": {},
     "output_type": "execute_result"
    }
   ],
   "source": [
    "# Numpy implementation\n",
    "# Inputs\n",
    "inputs = [1,2,3,2.5]\n",
    "\n",
    "# Weight matrix\n",
    "weights = [[0.2,0.8,-0.5,1],\n",
    "           [0.5,-0.91,0.26,-0.5],\n",
    "           [-0.26,-0.27,.17,.87]]\n",
    "\n",
    "# Vector of biases\n",
    "biases = [2,3,0.5]\n",
    "\n",
    "output = np.dot(weights,inputs) + biases\n",
    "output"
   ]
  },
  {
   "cell_type": "code",
   "execution_count": null,
   "metadata": {},
   "outputs": [],
   "source": []
  }
 ],
 "metadata": {
  "kernelspec": {
   "display_name": "Python 3",
   "language": "python",
   "name": "python3"
  },
  "language_info": {
   "codemirror_mode": {
    "name": "ipython",
    "version": 3
   },
   "file_extension": ".py",
   "mimetype": "text/x-python",
   "name": "python",
   "nbconvert_exporter": "python",
   "pygments_lexer": "ipython3",
   "version": "3.7.4"
  }
 },
 "nbformat": 4,
 "nbformat_minor": 2
}
