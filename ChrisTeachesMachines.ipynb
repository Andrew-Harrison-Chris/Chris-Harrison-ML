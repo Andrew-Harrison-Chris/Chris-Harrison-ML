{
 "cells": [
  {
   "cell_type": "markdown",
   "metadata": {},
   "source": [
    "**Chris DeGrendele** \n",
    "\n",
    "This is a notebook where I go through the following course, implementing some ideas and lessons.\n",
    "https://www.youtube.com/watch?v=PPLop4L2eGk&list=PLLssT5z_DsK-h9vYZkQkYNWcItqhlRJLN&index=1\n",
    "\n",
    "---"
   ]
  },
  {
   "cell_type": "code",
   "execution_count": 23,
   "metadata": {},
   "outputs": [],
   "source": [
    "import matplotlib.pyplot as plt\n",
    "from mpl_toolkits.mplot3d import Axes3D \n",
    "import numpy as np\n",
    "from random import random\n",
    "from numpy.random import rand"
   ]
  },
  {
   "cell_type": "markdown",
   "metadata": {},
   "source": [
    "# Univariate Linear Regression\n",
    "Assume a linear hypothesis:\n",
    "$h_{\\theta}(x) = \\theta_0 + \\theta_1x$\n",
    "\n",
    "Minimize:\n",
    "J$(\\theta_0, \\theta_1)$ = $\\frac{1}{2N}\\Sigma ^N_{i=1} \\left( h_{\\theta}(x^{(i)}) - y^{(i)} \\right)^2$\n",
    " \n",
    " $\\implies$ This is our **cost** function\n",
    " \n",
    " Our algorithm:\n",
    "         $\\theta_j := \\theta_j -\\alpha \\frac{\\partial}{\\partial \\theta_j}J(\\theta_0, \\theta_1)$"
   ]
  },
  {
   "cell_type": "code",
   "execution_count": 24,
   "metadata": {},
   "outputs": [],
   "source": [
    "x = np.array([1, 2, 3, 4, 5, 6, 7, 8, 9, 10])\n",
    "y = np.array([1, 3, 2, 4, 5, 7, 6, 8, 9 ,12])"
   ]
  },
  {
   "cell_type": "code",
   "execution_count": 25,
   "metadata": {},
   "outputs": [
    {
     "data": {
      "image/png": "[encoded data removed]",
      "text/plain": [
       "<Figure size 432x288 with 1 Axes>"
      ]
     },
     "metadata": {
      "needs_background": "light"
     },
     "output_type": "display_data"
    }
   ],
   "source": [
    "plt.scatter(x,y, marker='x')\n",
    "plt.xlabel(\"Time spent learning ML [hours]\")\n",
    "plt.ylabel(\"Harrison's Attractiveness $[\\sigma$ from mean]\");"
   ]
  },
  {
   "cell_type": "markdown",
   "metadata": {},
   "source": [
    "We will solve this using **batch gradient descent**\n",
    "\n",
    "$$\\theta_j =\\theta_j -\\alpha* \\frac{\\partial}{\\partial \\theta_j}J(\\theta_0, \\theta_1) \\text{ for } j = 0,1$$\n",
    "\n",
    "where $$\\frac{\\partial}{\\partial \\theta_0}J(\\theta_0, \\theta_1) = \\frac{1}{N}\\Sigma ^N_{i=1} \\left( h_{\\theta}(x^{(i)}) - y^{(i)} \\right)$$\n",
    "\n",
    "$$\\frac{\\partial}{\\partial \\theta_1}J(\\theta_0, \\theta_1) = \\frac{1}{N}\\Sigma ^N_{i=1} \\left( h_{\\theta}(x^{(i)}) - y^{(i)} \\right)*x^{(i)}$$"
   ]
  },
  {
   "cell_type": "code",
   "execution_count": 26,
   "metadata": {},
   "outputs": [],
   "source": [
    "def H(x, θ_0, θ_1):\n",
    "    return θ_0 + x*θ_1\n",
    "\n",
    "def cost(x,y,θ_0,θ_1):\n",
    "    sum = 0\n",
    "    for i in range(len(x)):\n",
    "        sum += ( H(x[i], θ_0, θ_1) - y[i] )**2\n",
    "    return 1/(2*len(x)) * sum\n",
    "    \n",
    "\n",
    "def gradient_descent(x, y, α, tol, verbose=True):\n",
    "    assert len(x) == len(y)\n",
    "    N = len(x) \n",
    "    \n",
    "    θ_0, θ_1 = random(), random()\n",
    "    \n",
    "    while cost(x,y,θ_0,θ_1) > tol:\n",
    "        if verbose: print(\"Cost: \",cost(x,y,θ_0,θ_1))\n",
    "        temp0, temp1 = 0,0\n",
    "        for i in range(N):\n",
    "            temp0 += H(x[i], θ_0, θ_1) - y[i]\n",
    "            temp1 += (H(x[i], θ_0, θ_1) - y[i])*x[i]\n",
    "\n",
    "        θ_0 = θ_0 - α*temp0/N\n",
    "        θ_1 =  θ_1 - α*temp1/N\n",
    "\n",
    "\n",
    "\n",
    "    return θ_0, θ_1"
   ]
  },
  {
   "cell_type": "code",
   "execution_count": 27,
   "metadata": {},
   "outputs": [
    {
     "name": "stdout",
     "output_type": "stream",
     "text": [
      "Cost:  5.506718065690229\n",
      "Cost:  2.3381520657082477\n",
      "Cost:  1.1699468437623672\n",
      "Cost:  0.7390163918280747\n",
      "Cost:  0.5798249288054531\n",
      "Cost:  0.5207898647388944\n"
     ]
    }
   ],
   "source": [
    "θ_0, θ_1 = gradient_descent(x,y,.01,0.5)"
   ]
  },
  {
   "cell_type": "code",
   "execution_count": 28,
   "metadata": {},
   "outputs": [
    {
     "data": {
      "image/png": "[encoded data removed]",
      "text/plain": [
       "<Figure size 432x288 with 1 Axes>"
      ]
     },
     "metadata": {
      "needs_background": "light"
     },
     "output_type": "display_data"
    }
   ],
   "source": [
    "plt.scatter(x,y, marker='x')\n",
    "plt.plot(x, θ_0+ x*θ_1, color=\"red\")\n",
    "plt.xlabel(\"Time spent learning ML [hours]\")\n",
    "plt.ylabel(\"Harrison's Attractiveness $[\\sigma$ from mean]\");"
   ]
  },
  {
   "cell_type": "markdown",
   "metadata": {},
   "source": [
    "# Multivariate Linear Regression\n",
    "$x^{(i)}_j\\equiv$ value of feature j in $i^{th}$ training example \n",
    "\n",
    "Our hypothesis now takes the form: $h_{\\theta} = \\theta_0 + \\Sigma ^N _{i = 1} x_i \\theta_i$\n",
    "\n",
    "For convience of notation, we can let $x_0 = 1$\n",
    "\n",
    "such that: $h_{\\theta} = \\vec{\\Theta}^T\\vec{X}$\n",
    "\n",
    "J is then: J$(\\vec{\\Theta})$ = $\\frac{1}{2N}\\Sigma ^N_{i=1} \\left( h_{\\theta}(x^{(i)}) - y^{(i)} \\right)^2$\n",
    "\n",
    "and finally our algorithm:\n",
    "$\\theta_j := \\theta_j -\\alpha \\frac{\\partial}{\\partial \\theta_j}J(\\vec{\\Theta})$\n",
    "\n",
    "$\\theta_j := \\theta_j -\\alpha \\frac{1}{N} \\Sigma ^N _{i=1} \\left( h_{\\theta} (x^{(i)}) - y^{(i)} \\right)x^{(i)}_j$ simultaneously update $\\theta_j$ for all j"
   ]
  },
  {
   "cell_type": "code",
   "execution_count": 29,
   "metadata": {},
   "outputs": [],
   "source": [
    "def H(x, θ): \n",
    "    return np.dot(x,θ)\n",
    "\n",
    "def cost(X, z, θ):\n",
    "    sum = 0\n",
    "    for i in range(len(X[1])):\n",
    "        sum += ( H(X[:,i], θ) - z[i] )**2\n",
    "    return 1/(2*len(X[1])) * sum\n",
    "    \n",
    "\n",
    "def multi_gradient_descent(X, z, α,tol, verbose=True):\n",
    "    '''X is an [i,j] matrix where i is the number of training \n",
    "    variables and j is the number of points.\n",
    "    z is the solution\n",
    "    α is the learning rate, proportional to the size of steps\n",
    "    tol is the tolerance of the solution accepted, evaulated \n",
    "    by the cost()'''\n",
    "    \n",
    "    assert len(X[0]) == len(z)\n",
    "    \n",
    "    X = np.vstack( (np.ones(len(X[1])), X) ) #add row of x_0's = 1\n",
    "    N, N_p = X.shape #Number of θ, Number of points\n",
    "\n",
    "    θ = rand(N)\n",
    "    \n",
    "    while cost(X, z, θ) > tol:\n",
    "        \n",
    "        if verbose: print(\"Cost: \",cost(X, z, θ))\n",
    "        temp = np.zeros(N)\n",
    "        for j in range(N):\n",
    "            for i in range(N_p):\n",
    "                temp += (H(X[:,i], θ) - z[i])*X[j,i]\n",
    "\n",
    "        θ = θ - α*temp/N\n",
    "\n",
    "    return θ"
   ]
  },
  {
   "cell_type": "code",
   "execution_count": 34,
   "metadata": {
    "scrolled": true
   },
   "outputs": [
    {
     "name": "stdout",
     "output_type": "stream",
     "text": [
      "Cost:  1.3169397981185538\n",
      "Cost:  1.3017644739445264\n",
      "Cost:  1.286767690342719\n",
      "Cost:  1.2719473467493754\n",
      "Cost:  1.257301367314272\n",
      "Cost:  1.2428277006099586\n",
      "Cost:  1.2285243193444177\n",
      "Cost:  1.2143892200771096\n",
      "Cost:  1.2004204229383495\n",
      "Cost:  1.1866159713519984\n",
      "Cost:  1.1729739317614065\n",
      "Cost:  1.1594923933585854\n",
      "Cost:  1.1461694678165664\n",
      "Cost:  1.1330032890249044\n",
      "Cost:  1.1199920128283\n",
      "Cost:  1.1071338167682925\n",
      "Cost:  1.0944268998279865\n",
      "Cost:  1.0818694821797983\n",
      "Cost:  1.0694598049361501\n",
      "Cost:  1.0571961299031123\n",
      "Cost:  1.0450767393369367\n",
      "Cost:  1.0330999357034563\n",
      "Cost:  1.0212640414403165\n",
      "Cost:  1.009567398722003\n",
      "Cost:  0.9980083692276311\n",
      "Cost:  0.9865853339114768\n",
      "Cost:  0.9752966927761944\n",
      "Cost:  0.9641408646487092\n",
      "Cost:  0.953116286958752\n",
      "Cost:  0.942221415519987\n",
      "Cost:  0.9314547243137246\n",
      "Cost:  0.9208147052751754\n",
      "Cost:  0.9102998680822183\n",
      "Cost:  0.8999087399466552\n",
      "Cost:  0.8896398654079211\n",
      "Cost:  0.8794918061292214\n",
      "Cost:  0.8694631406960674\n",
      "Cost:  0.8595524644171804\n",
      "Cost:  0.849758389127744\n",
      "Cost:  0.8400795429949611\n",
      "Cost:  0.8305145703259108\n",
      "Cost:  0.8210621313776567\n",
      "Cost:  0.8117209021695939\n",
      "Cost:  0.8024895742979962\n",
      "Cost:  0.7933668547527606\n",
      "Cost:  0.7843514657362911\n",
      "Cost:  0.7754421444845235\n",
      "Cost:  0.7666376430900542\n",
      "Cost:  0.7579367283273473\n",
      "Cost:  0.7493381814799968\n",
      "Cost:  0.740840798170029\n",
      "Cost:  0.7324433881892061\n",
      "Cost:  0.724144775332316\n",
      "Cost:  0.7159437972324226\n",
      "Cost:  0.7078393051980614\n",
      "Cost:  0.6998301640523368\n",
      "Cost:  0.6919152519739291\n",
      "Cost:  0.6840934603399577\n",
      "Cost:  0.6763636935706997\n",
      "Cost:  0.6687248689761374\n",
      "Cost:  0.6611759166043076\n",
      "Cost:  0.6537157790914327\n",
      "Cost:  0.6463434115138232\n",
      "Cost:  0.639057781241514\n",
      "Cost:  0.6318578677936286\n",
      "Cost:  0.6247426626954408\n",
      "Cost:  0.617711169337123\n",
      "Cost:  0.6107624028341482\n",
      "Cost:  0.6038953898893477\n",
      "Cost:  0.5971091686565749\n",
      "Cost:  0.5904027886059868\n",
      "Cost:  0.5837753103909059\n",
      "Cost:  0.5772258057162478\n",
      "Cost:  0.5707533572084919\n",
      "Cost:  0.5643570582871957\n",
      "Cost:  0.5580360130380048\n",
      "Cost:  0.5517893360871692\n",
      "Cost:  0.5456161524775294\n",
      "Cost:  0.5395155975459613\n",
      "Cost:  0.5334868168022686\n",
      "Cost:  0.5275289658094942\n",
      "Cost:  0.521641210065641\n",
      "Cost:  0.5158227248867875\n",
      "Cost:  0.5100726952915761\n",
      "Cost:  0.5043903158870573\n",
      "Cost:  0.4987747907558854\n",
      "Cost:  0.49322533334483154\n",
      "Cost:  0.4877411663546152\n",
      "Cost:  0.48232152163103087\n",
      "Cost:  0.476965640057352\n",
      "Cost:  0.4716727714480051\n",
      "Cost:  0.46644217444349173\n",
      "Cost:  0.46127311640655\n",
      "Cost:  0.45616487331953404\n",
      "Cost:  0.45111672968300287\n",
      "Cost:  0.4461279784155034\n",
      "Cost:  0.4411979207545283\n",
      "Cost:  0.4363258661586459\n",
      "Cost:  0.4315111322107741\n",
      "Cost:  0.42675304452259777\n",
      "Cost:  0.4220509366401102\n",
      "Cost:  0.4174041499502604\n",
      "Cost:  0.4128120335887065\n",
      "Cost:  0.4082739443486485\n",
      "Cost:  0.40378924659073673\n",
      "Cost:  0.39935731215403847\n",
      "Cost:  0.3949775202680562\n",
      "Cost:  0.3906492574657729\n",
      "Cost:  0.3863719174977278\n",
      "Cost:  0.38214490124710176\n",
      "Cost:  0.3779676166457966\n",
      "Cost:  0.3738394785915111\n",
      "Cost:  0.3697599088657801\n",
      "Cost:  0.3657283360529909\n",
      "Cost:  0.3617441954603426\n",
      "Cost:  0.35780692903875355\n",
      "Cost:  0.35391598530469515\n",
      "Cost:  0.3500708192629476\n",
      "Cost:  0.3462708923302626\n",
      "Cost:  0.3425156722599261\n",
      "Cost:  0.33880463306721\n",
      "Cost:  0.3351372549556934\n",
      "Cost:  0.33151302424446016\n",
      "Cost:  0.32793143329614854\n",
      "Cost:  0.32439198044584633\n",
      "Cost:  0.32089416993082365\n",
      "Cost:  0.31743751182109436\n",
      "Cost:  0.3140215219507909\n",
      "Cost:  0.3106457218503501\n",
      "Cost:  0.30730963867949257\n",
      "Cost:  0.3040128051609962\n",
      "Cost:  0.3007547595152434\n",
      "Cost:  0.29753504539554126\n",
      "Cost:  0.29435321182420354\n",
      "Cost:  0.29120881312938046\n",
      "Cost:  0.2881014088826379\n",
      "Cost:  0.2850305638372649\n",
      "Cost:  0.28199584786731113\n",
      "Cost:  0.2789968359073402\n",
      "Cost:  0.27603310789289054\n",
      "Cost:  0.27310424870163946\n",
      "Cost:  0.27020984809525667\n",
      "Cost:  0.2673495006619442\n",
      "Cost:  0.2645228057596506\n",
      "Cost:  0.2617293674599542\n",
      "Cost:  0.2589687944926072\n",
      "Cost:  0.2562407001907297\n",
      "Cost:  0.2535447024366517\n",
      "Cost:  0.25088042360839036\n",
      "Cost:  0.2482474905267562\n",
      "Cost:  0.245645534403085\n",
      "Cost:  0.2430741907875801\n",
      "Cost:  0.24053309951826735\n",
      "Cost:  0.2380219046705451\n",
      "Cost:  0.23554025450733357\n",
      "Cost:  0.23308780142980573\n",
      "Cost:  0.230664201928701\n",
      "Cost:  0.22826911653621085\n",
      "Cost:  0.22590220977842917\n",
      "Cost:  0.22356315012836525\n",
      "Cost:  0.22125160995950563\n",
      "Cost:  0.21896726549992562\n",
      "Cost:  0.21670979678693778\n",
      "Cost:  0.21447888762227701\n",
      "Cost:  0.2122742255278113\n",
      "Cost:  0.21009550170177294\n",
      "Cost:  0.2079424109755051\n",
      "Cost:  0.20581465177071934\n",
      "Cost:  0.20371192605725189\n",
      "Cost:  0.20163393931132126\n"
     ]
    },
    {
     "data": {
      "image/png": "[encoded data removed]",
      "text/plain": [
       "<Figure size 432x288 with 1 Axes>"
      ]
     },
     "metadata": {
      "needs_background": "light"
     },
     "output_type": "display_data"
    }
   ],
   "source": [
    "x = [1,2,3,4,5,6,7,8,9,10]\n",
    "y = [1,2,3,4,5,6,7,8,9,10]\n",
    "z = [1,2,3,4,5,6,7,8,9,10]\n",
    "\n",
    "X = np.array([x,y])\n",
    "θ = multi_gradient_descent(X, z, .00001, 0.2, verbose=True)\n",
    "\n",
    "fig = plt.figure()\n",
    "ax = fig.add_subplot(111, projection='3d')\n",
    "\n",
    "ax.scatter(x,y,z)\n",
    "ax.plot(x,y, θ[0] + np.array(x)*θ[1] + np.array(y)*θ[2])\n",
    "ax.set_xlabel('x')\n",
    "ax.set_ylabel('y')\n",
    "ax.set_zlabel('z  ');"
   ]
  },
  {
   "cell_type": "code",
   "execution_count": null,
   "metadata": {},
   "outputs": [],
   "source": []
  },
  {
   "cell_type": "code",
   "execution_count": null,
   "metadata": {},
   "outputs": [],
   "source": []
  },
  {
   "cell_type": "code",
   "execution_count": null,
   "metadata": {},
   "outputs": [],
   "source": []
  },
  {
   "cell_type": "code",
   "execution_count": 31,
   "metadata": {},
   "outputs": [
    {
     "data": {
      "text/plain": [
       "True"
      ]
     },
     "execution_count": 31,
     "metadata": {},
     "output_type": "execute_result"
    }
   ],
   "source": [
    "#hahahahahha\n",
    "x = [1,2,3]\n",
    "type(np.array(np.array(x))) == type(np.array(x))"
   ]
  },
  {
   "cell_type": "code",
   "execution_count": null,
   "metadata": {},
   "outputs": [],
   "source": []
  },
  {
   "cell_type": "code",
   "execution_count": null,
   "metadata": {},
   "outputs": [],
   "source": []
  },
  {
   "cell_type": "code",
   "execution_count": null,
   "metadata": {},
   "outputs": [],
   "source": []
  },
  {
   "cell_type": "code",
   "execution_count": null,
   "metadata": {},
   "outputs": [],
   "source": []
  },
  {
   "cell_type": "code",
   "execution_count": null,
   "metadata": {},
   "outputs": [],
   "source": []
  },
  {
   "cell_type": "code",
   "execution_count": null,
   "metadata": {},
   "outputs": [],
   "source": []
  },
  {
   "cell_type": "code",
   "execution_count": null,
   "metadata": {},
   "outputs": [],
   "source": []
  }
 ],
 "metadata": {
  "kernelspec": {
   "display_name": "Python 3",
   "language": "python",
   "name": "python3"
  }
 },
 "nbformat": 4,
 "nbformat_minor": 2
}
