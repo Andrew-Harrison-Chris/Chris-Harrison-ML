{
 "cells": [
  {
   "cell_type": "markdown",
   "metadata": {},
   "source": [
    "**Chris DeGrendele** \n",
    "\n",
    "This is a notebook where I go through the following course, implementing some ideas and lessons.\n",
    "https://www.youtube.com/watch?v=PPLop4L2eGk&list=PLLssT5z_DsK-h9vYZkQkYNWcItqhlRJLN&index=1\n",
    "\n",
    "---"
   ]
  },
  {
   "cell_type": "code",
   "execution_count": 76,
   "metadata": {},
   "outputs": [],
   "source": [
    "import matplotlib.pyplot as plt\n",
    "from mpl_toolkits.mplot3d import Axes3D \n",
    "import numpy as np\n",
    "from random import random\n",
    "from numpy.random import rand"
   ]
  },
  {
   "cell_type": "markdown",
   "metadata": {},
   "source": [
    "# Univariate Linear Regression\n",
    "Assume a linear hypothesis:\n",
    "$h_{\\theta}(x) = \\theta_0 + \\theta_1x$\n",
    "\n",
    "Minimize:\n",
    "J$(\\theta_0, \\theta_1)$ = $\\frac{1}{2N}\\Sigma ^N_{i=1} \\left( h_{\\theta}(x^{(i)}) - y^{(i)} \\right)^2$\n",
    " \n",
    " $\\implies$ This is our **cost** function\n",
    " \n",
    " Our algorithm:\n",
    "         $\\theta_j := \\theta_j -\\alpha \\frac{\\partial}{\\partial \\theta_j}J(\\theta_0, \\theta_1)$"
   ]
  },
  {
   "cell_type": "code",
   "execution_count": 77,
   "metadata": {},
   "outputs": [],
   "source": [
    "x = np.array([1, 2, 3, 4, 5, 6, 7, 8, 9, 10])\n",
    "y = np.array([1, 3, 2, 4, 5, 7, 6, 8, 9 ,12])"
   ]
  },
  {
   "cell_type": "code",
   "execution_count": 78,
   "metadata": {},
   "outputs": [
    {
     "data": {
      "image/png": "[encoded data removed]",
      "text/plain": [
       "<Figure size 432x288 with 1 Axes>"
      ]
     },
     "metadata": {
      "needs_background": "light"
     },
     "output_type": "display_data"
    }
   ],
   "source": [
    "plt.scatter(x,y, marker='x')\n",
    "plt.xlabel(\"Time spent learning ML [hours]\")\n",
    "plt.ylabel(\"Harrison's Attractiveness $[\\sigma$ from mean]\");"
   ]
  },
  {
   "cell_type": "markdown",
   "metadata": {},
   "source": [
    "We will solve this using **batch gradient descent**\n",
    "\n",
    "$$\\theta_j =\\theta_j -\\alpha* \\frac{\\partial}{\\partial \\theta_j}J(\\theta_0, \\theta_1) \\text{ for } j = 0,1$$\n",
    "\n",
    "where $$\\frac{\\partial}{\\partial \\theta_0}J(\\theta_0, \\theta_1) = \\frac{1}{N}\\Sigma ^N_{i=1} \\left( h_{\\theta}(x^{(i)}) - y^{(i)} \\right)$$\n",
    "\n",
    "$$\\frac{\\partial}{\\partial \\theta_1}J(\\theta_0, \\theta_1) = \\frac{1}{N}\\Sigma ^N_{i=1} \\left( h_{\\theta}(x^{(i)}) - y^{(i)} \\right)*x^{(i)}$$"
   ]
  },
  {
   "cell_type": "code",
   "execution_count": 79,
   "metadata": {},
   "outputs": [],
   "source": [
    "def H(x, θ_0, θ_1):\n",
    "    return θ_0 + x*θ_1\n",
    "\n",
    "def cost(x,y,θ_0,θ_1):\n",
    "    sum = 0\n",
    "    for i in range(len(x)):\n",
    "        sum += ( H(x[i], θ_0, θ_1) - y[i] )**2\n",
    "    return 1/(2*len(x)) * sum\n",
    "    \n",
    "\n",
    "def gradient_descent(x, y, α, tol, verbose=True):\n",
    "    assert len(x) == len(y)\n",
    "    N = len(x) \n",
    "    \n",
    "    θ_0, θ_1 = random(), random()\n",
    "    \n",
    "    while cost(x,y,θ_0,θ_1) > tol:\n",
    "        if verbose: print(\"Cost: \",cost(x,y,θ_0,θ_1))\n",
    "        temp0, temp1 = 0,0\n",
    "        for i in range(N):\n",
    "            temp0 += H(x[i], θ_0, θ_1) - y[i]\n",
    "            temp1 += (H(x[i], θ_0, θ_1) - y[i])*x[i]\n",
    "\n",
    "        θ_0 = θ_0 - α*temp0/N\n",
    "        θ_1 =  θ_1 - α*temp1/N\n",
    "\n",
    "\n",
    "\n",
    "    return θ_0, θ_1"
   ]
  },
  {
   "cell_type": "code",
   "execution_count": 80,
   "metadata": {},
   "outputs": [
    {
     "name": "stdout",
     "output_type": "stream",
     "text": [
      "Cost:  0.723323380560959\n",
      "Cost:  0.5974794015880927\n",
      "Cost:  0.5506368967203081\n",
      "Cost:  0.5329139059494358\n",
      "Cost:  0.5259254206733216\n",
      "Cost:  0.5228952678098798\n",
      "Cost:  0.5213259443319752\n",
      "Cost:  0.5202969372261447\n",
      "Cost:  0.5194689649274101\n",
      "Cost:  0.5187169704549465\n",
      "Cost:  0.5179948536441091\n",
      "Cost:  0.5172856154874154\n",
      "Cost:  0.5165829828276595\n",
      "Cost:  0.5158846357685246\n",
      "Cost:  0.515189711500286\n",
      "Cost:  0.5144978842843925\n",
      "Cost:  0.5138090263631231\n",
      "Cost:  0.5131230829808822\n",
      "Cost:  0.5124400263206432\n",
      "Cost:  0.5117598385261662\n",
      "Cost:  0.5110825054443573\n",
      "Cost:  0.5104080143187558\n",
      "Cost:  0.5097363529392919\n",
      "Cost:  0.5090675093287749\n",
      "Cost:  0.508401471627216\n",
      "Cost:  0.5077382280490573\n",
      "Cost:  0.5070777668672772\n",
      "Cost:  0.5064200764074038\n",
      "Cost:  0.5057651450451763\n",
      "Cost:  0.5051129612055537\n",
      "Cost:  0.5044635133622238\n",
      "Cost:  0.5038167900372887\n",
      "Cost:  0.5031727798010249\n",
      "Cost:  0.5025314712716675\n",
      "Cost:  0.5018928531152013\n",
      "Cost:  0.5012569140451613\n",
      "Cost:  0.50062364282243\n"
     ]
    }
   ],
   "source": [
    "θ_0, θ_1 = gradient_descent(x,y,.01,0.5)"
   ]
  },
  {
   "cell_type": "code",
   "execution_count": 81,
   "metadata": {},
   "outputs": [
    {
     "data": {
      "image/png": "[encoded data removed]",
      "text/plain": [
       "<Figure size 432x288 with 1 Axes>"
      ]
     },
     "metadata": {
      "needs_background": "light"
     },
     "output_type": "display_data"
    }
   ],
   "source": [
    "plt.scatter(x,y, marker='x')\n",
    "plt.plot(x, θ_0+ x*θ_1, color=\"red\")\n",
    "plt.xlabel(\"Time spent learning ML [hours]\")\n",
    "plt.ylabel(\"Harrison's Attractiveness $[\\sigma$ from mean]\");"
   ]
  },
  {
   "cell_type": "markdown",
   "metadata": {},
   "source": [
    "# Multivariate Linear Regression\n",
    "$x^{(i)}_j\\equiv$ value of feature j in $i^{th}$ training example \n",
    "\n",
    "Our hypothesis now takes the form: $h_{\\theta} = \\theta_0 + \\Sigma ^N _{i = 1} x_i \\theta_i$\n",
    "\n",
    "For convience of notation, we can let $x_0 = 1$\n",
    "\n",
    "such that: $h_{\\theta} = \\vec{\\Theta}^T\\vec{X}$\n",
    "\n",
    "J is then: J$(\\vec{\\Theta})$ = $\\frac{1}{2N}\\Sigma ^N_{i=1} \\left( h_{\\theta}(x^{(i)}) - y^{(i)} \\right)^2$\n",
    "\n",
    "and finally our algorithm:\n",
    "$\\theta_j := \\theta_j -\\alpha \\frac{\\partial}{\\partial \\theta_j}J(\\vec{\\Theta})$\n",
    "\n",
    "$\\theta_j := \\theta_j -\\alpha \\frac{1}{N} \\Sigma ^N _{i=1} \\left( h_{\\theta} (x^{(i)}) - y^{(i)} \\right)x^{(i)}_j$ simultaneously update $\\theta_j$ for all j"
   ]
  },
  {
   "cell_type": "code",
   "execution_count": 82,
   "metadata": {},
   "outputs": [],
   "source": [
    "def H(x, θ): \n",
    "    return np.dot(x,θ)\n",
    "\n",
    "def cost(X, z, θ):\n",
    "    sum = 0\n",
    "    for i in range(len(X[1])):\n",
    "        sum += ( H(X[:,i], θ) - z[i] )**2\n",
    "    return 1/(2*len(X[1])) * sum\n",
    "    \n",
    "\n",
    "def multi_gradient_descent(X, z, α,tol, verbose=True):\n",
    "    '''X is an [i,j] matrix where i is the number of training \n",
    "    variables and j is the number of points.\n",
    "    z is the solution\n",
    "    α is the learning rate, proportional to the size of steps\n",
    "    tol is the tolerance of the solution accepted, evaulated \n",
    "    by the cost()'''\n",
    "    \n",
    "    assert len(X[0]) == len(z)\n",
    "    \n",
    "    X = np.vstack( (np.ones(len(X[1])), X) ) #add row of x_0's = 1\n",
    "    N, N_p = X.shape #Number of θ, Number of points\n",
    "\n",
    "    θ = rand(N)\n",
    "    \n",
    "    while cost(X, z, θ) > tol:\n",
    "        \n",
    "        if verbose: print(\"Cost: \",cost(X, z, θ))\n",
    "        temp = np.zeros(N)\n",
    "        for j in range(N):\n",
    "            for i in range(N_p):\n",
    "                temp += (H(X[:,i], θ) - z[i])*X[j,i]\n",
    "\n",
    "        θ = θ - α*temp/N\n",
    "\n",
    "    return θ"
   ]
  },
  {
   "cell_type": "code",
   "execution_count": 83,
   "metadata": {
    "scrolled": true
   },
   "outputs": [
    {
     "name": "stdout",
     "output_type": "stream",
     "text": [
      "Cost:  1.0382570573264966\n",
      "Cost:  1.026967796303827\n",
      "Cost:  1.01581135558205\n",
      "Cost:  1.0047861725050888\n",
      "Cost:  0.9938907028018115\n",
      "Cost:  0.9831234203697332\n",
      "Cost:  0.9724828170612515\n",
      "Cost:  0.9619674024724095\n",
      "Cost:  0.9515757037341338\n",
      "Cost:  0.9413062653059359\n",
      "Cost:  0.9311576487720394\n",
      "Cost:  0.9211284326399016\n",
      "Cost:  0.9112172121411091\n",
      "Cost:  0.9014225990346166\n",
      "Cost:  0.891743221412299\n",
      "Cost:  0.882177723506789\n",
      "Cost:  0.8727247655015825\n",
      "Cost:  0.863383023343369\n",
      "Cost:  0.8541511885565782\n",
      "Cost:  0.8450279680601027\n",
      "Cost:  0.8360120839861804\n",
      "Cost:  0.8271022735014051\n",
      "Cost:  0.8182972886298476\n",
      "Cost:  0.8095958960782511\n",
      "Cost:  0.8009968770632887\n",
      "Cost:  0.7924990271408509\n",
      "Cost:  0.7841011560373424\n",
      "Cost:  0.7758020874829614\n",
      "Cost:  0.7676006590469465\n",
      "Cost:  0.7594957219747518\n",
      "Cost:  0.7514861410271498\n",
      "Cost:  0.7435707943212169\n",
      "Cost:  0.7357485731731952\n",
      "Cost:  0.728018381943202\n",
      "Cost:  0.720379137881766\n",
      "Cost:  0.7128297709781695\n",
      "Cost:  0.7053692238105732\n",
      "Cost:  0.6979964513979078\n",
      "Cost:  0.6907104210535039\n",
      "Cost:  0.6835101122404483\n",
      "Cost:  0.6763945164286366\n",
      "Cost:  0.6693626369535136\n",
      "Cost:  0.6624134888764727\n",
      "Cost:  0.655546098846897\n",
      "Cost:  0.648759504965823\n",
      "Cost:  0.6420527566512129\n",
      "Cost:  0.6354249145048062\n",
      "Cost:  0.6288750501805418\n",
      "Cost:  0.6224022462545271\n",
      "Cost:  0.6160055960965343\n",
      "Cost:  0.6096842037430139\n",
      "Cost:  0.6034371837715966\n",
      "Cost:  0.5972636611770777\n",
      "Cost:  0.5911627712488523\n",
      "Cost:  0.585133659449801\n",
      "Cost:  0.5791754812965969\n",
      "Cost:  0.5732874022414194\n",
      "Cost:  0.5674685975550612\n",
      "Cost:  0.5617182522114107\n",
      "Cost:  0.5560355607732939\n",
      "Cost:  0.5504197272796577\n",
      "Cost:  0.5448699651340829\n",
      "Cost:  0.5393854969946055\n",
      "Cost:  0.5339655546648382\n",
      "Cost:  0.5286093789863692\n",
      "Cost:  0.5233162197324309\n",
      "Cost:  0.5180853355028158\n",
      "Cost:  0.5129159936200297\n",
      "Cost:  0.5078074700266696\n",
      "Cost:  0.5027590491840055\n",
      "Cost:  0.4977700239717544\n",
      "Cost:  0.49283969558904056\n",
      "Cost:  0.48796737345651175\n",
      "Cost:  0.4831523751196131\n",
      "Cost:  0.4783940261529983\n",
      "Cost:  0.47369166006606145\n",
      "Cost:  0.4690446182095868\n",
      "Cost:  0.46445224968349197\n",
      "Cost:  0.45991391124565645\n",
      "Cost:  0.4554289672218261\n",
      "Cost:  0.45099678941657584\n",
      "Cost:  0.4466167570253181\n",
      "Cost:  0.44228825654735\n",
      "Cost:  0.43801068169992025\n",
      "Cost:  0.43378343333330954\n",
      "Cost:  0.42960591934690956\n",
      "Cost:  0.42547755460628683\n",
      "Cost:  0.4213977608612268\n",
      "Cost:  0.41736596666473824\n",
      "Cost:  0.41338160729301193\n",
      "Cost:  0.40944412466632224\n",
      "Cost:  0.40555296727085777\n",
      "Cost:  0.4017075900814704\n",
      "Cost:  0.3979074544853383\n",
      "Cost:  0.39415202820652057\n",
      "Cost:  0.39044078523140424\n",
      "Cost:  0.3867732057350259\n",
      "Cost:  0.38314877600826225\n",
      "Cost:  0.3795669883858757\n",
      "Cost:  0.3760273411754068\n",
      "Cost:  0.3725293385869013\n",
      "Cost:  0.36907249066347025\n",
      "Cost:  0.36565631321265984\n",
      "Cost:  0.3622803277386316\n",
      "Cost:  0.35894406137514284\n",
      "Cost:  0.35564704681931114\n",
      "Cost:  0.35238882226616175\n",
      "Cost:  0.3491689313439425\n",
      "Cost:  0.34598692305020246\n",
      "Cost:  0.34284235168862004\n",
      "Cost:  0.3397347768065747\n",
      "Cost:  0.33666376313345614\n",
      "Cost:  0.3336288805196944\n",
      "Cost:  0.33062970387651147\n",
      "Cost:  0.3276658131163788\n",
      "Cost:  0.3247367930941782\n",
      "Cost:  0.32184223354905267\n",
      "Cost:  0.31898172904694255\n",
      "Cost:  0.31615487892379485\n",
      "Cost:  0.3133612872294478\n",
      "Cost:  0.31060056267216674\n",
      "Cost:  0.30787231856384023\n",
      "Cost:  0.30517617276581466\n",
      "Cost:  0.30251174763537064\n",
      "Cost:  0.2998786699728269\n",
      "Cost:  0.29727657096926774\n",
      "Cost:  0.2947050861548844\n",
      "Cost:  0.2921638553479241\n",
      "Cost:  0.2896525226042413\n",
      "Cost:  0.28717073616744115\n",
      "Cost:  0.28471814841960974\n",
      "Cost:  0.282294415832623\n",
      "Cost:  0.2798991989200318\n",
      "Cost:  0.2775321621895079\n",
      "Cost:  0.275192974095856\n",
      "Cost:  0.2728813069945713\n",
      "Cost:  0.2705968370959501\n",
      "Cost:  0.2683392444197354\n",
      "Cost:  0.2661082127502989\n",
      "Cost:  0.26390342959234975\n",
      "Cost:  0.26172458612716226\n",
      "Cost:  0.25957137716932305\n",
      "Cost:  0.25744350112398284\n",
      "Cost:  0.25534065994461236\n",
      "Cost:  0.253262559091257\n",
      "Cost:  0.25120890748928043\n",
      "Cost:  0.24917941748859512\n",
      "Cost:  0.2471738048233706\n",
      "Cost:  0.24519178857221935\n",
      "Cost:  0.2432330911188456\n",
      "Cost:  0.24129743811316337\n",
      "Cost:  0.23938455843286716\n",
      "Cost:  0.23749418414545695\n",
      "Cost:  0.23562605047070934\n",
      "Cost:  0.23377989574359015\n",
      "Cost:  0.23195546137760484\n",
      "Cost:  0.23015249182857805\n",
      "Cost:  0.2283707345588597\n",
      "Cost:  0.22660994000195367\n",
      "Cost:  0.2248698615275603\n",
      "Cost:  0.22315025540703318\n",
      "Cost:  0.22145088077923902\n",
      "Cost:  0.21977149961682227\n",
      "Cost:  0.21811187669286358\n",
      "Cost:  0.2164717795479338\n",
      "Cost:  0.21485097845753276\n",
      "Cost:  0.21324924639991227\n",
      "Cost:  0.21166635902427866\n",
      "Cost:  0.2101020946193684\n",
      "Cost:  0.20855623408239157\n",
      "Cost:  0.20702856088834595\n",
      "Cost:  0.20551886105968653\n",
      "Cost:  0.20402692313635412\n",
      "Cost:  0.2025525381461578\n",
      "Cost:  0.20109549957550407\n"
     ]
    },
    {
     "data": {
      "image/png": "[encoded data removed]",
      "text/plain": [
       "<Figure size 432x288 with 1 Axes>"
      ]
     },
     "metadata": {
      "needs_background": "light"
     },
     "output_type": "display_data"
    }
   ],
   "source": [
    "x = [1,2,3,4,5,6,7,8,9,10]\n",
    "y = [1,2,3,4,5,6,7,8,9,10]\n",
    "z = [1,2,3,4,5,6,7,8,9,10]\n",
    "\n",
    "X = np.array([x,y])\n",
    "θ = multi_gradient_descent(X, z, .00001, 0.2, verbose=True)\n",
    "\n",
    "fig = plt.figure()\n",
    "ax = fig.add_subplot(111, projection='3d')\n",
    "\n",
    "ax.scatter(x,y,z)\n",
    "ax.plot(x,y, θ[0] + np.array(x)*θ[1] + np.array(y)*θ[2])\n",
    "ax.set_xlabel('x')\n",
    "ax.set_ylabel('y')\n",
    "ax.set_zlabel('z  ');"
   ]
  },
  {
   "cell_type": "markdown",
   "metadata": {},
   "source": [
    "**Notes about gradient descent:**\n",
    "\n",
    "It will most likely get stuck in a local minima and not find a global minimum. \n",
    "\n",
    "Feature scaling - make sure features are on a similiar scale. If scale is too big in one direction, it will have a much harder time because it will traverse in the direction of steepest descent. Generally, just get all features in the -1 < $x_i$ < 1\n",
    "\n",
    "- Mean normalization - replace $x_i$ with $x_i - \\mu_i$ to make features have an approximatley zero mean. Obviously don't apply to $x_0$ which is just an array of 1s\n",
    "\n",
    "How to choose a learning rate $\\alpha$:\n",
    "- Cost function $J(\\theta)$ should decrease after every iteration\n",
    "- plot of cost function vs no. of iterations can be helpful in seeing whats going on\n",
    "- If $\\alpha$ is too small, there will be a slow convergence. If it's too large, it may not decrease on every iteration, may not converge at all."
   ]
  },
  {
   "cell_type": "markdown",
   "metadata": {},
   "source": [
    "# Polynomial Regression\n",
    "\n",
    "Lets say we know housing cost scales as a function of area. But it's not linear, it's say cubic. Letting x = area we can write our cost function:\n",
    "\n",
    "Cost = $\\theta_0 +\\theta_1 x_1 + \\theta_2 x^2 + \\theta_3x^3 + \\theta_4 \\sqrt{x}$\n",
    "\n",
    "by writing it in this nature, this still enables us to use all our tools for linear regression, with just a simple switch of cost function."
   ]
  },
  {
   "cell_type": "code",
   "execution_count": 84,
   "metadata": {},
   "outputs": [],
   "source": [
    "def H(x, θ): \n",
    "    return x[0]*θ[0] + x[1]*θ[1] * x[1]**2*θ[2] + x[1]**3*θ[3] + x[1]*np.sqrt(x[1])\n",
    "\n",
    "x = [1,2,3,4,5,6,7,8,9,10]\n",
    "z = [1,2,3,4,5,6,7,8,9,10]\n",
    "\n",
    "X = np.array(x)**2\n",
    "fixed = False\n",
    "if fixed:\n",
    "#in order for this to work i need to restructure multi_gradient_descent to independely input \n",
    "#number of theta, not depend on length. It's not really worth doing right now I think. but maybe I'll come \n",
    "#back to it.\n",
    "\n",
    "    θ = multi_gradient_descent(X, z, .00001, 2, verbose=True)\n",
    "\n",
    "    fig = plt.figure()\n",
    "    ax = fig.add_subplot(111, projection='3d')\n",
    "\n",
    "    ax.scatter(x,y,z)\n",
    "    ax.plot(x,y, θ[0] + np.array(x)*θ[1] + np.array(y)*θ[2])\n",
    "    ax.set_xlabel('x')\n",
    "    ax.set_ylabel('y')\n",
    "    ax.set_zlabel('z  ');"
   ]
  },
  {
   "cell_type": "markdown",
   "metadata": {},
   "source": [
    "# Normal Equation \n",
    "- A different way to solve for optimal $\\theta$, but this time it's analytic.\n",
    "\n",
    "Normal Equation: $\\theta = (X^TX)^{-1}X^Ty$\n",
    "\n",
    "X is called the \"Design Matrix\"\n",
    "\n",
    "What if $X^TX$ is non-invertible? Singular/degenerate\n",
    " - There are redundant features (Linearly dependent).\n",
    " - Too many features. If you fit a parameter vector $theta$ of size 100 on 10 examples. \n",
    "\n",
    "We can use the pseudoinverse.\n",
    "\n",
    "\n",
    "To find minimum: (Derived from:)\n",
    "\n",
    "$\\frac{\\partial}{\\partial \\theta_j}J(\\theta) = .... = 0$ (for every j)\n",
    "Solve for $\\theta_0, \\theta_1, \\theta_2... $\n",
    "\n",
    "Below is an example:"
   ]
  },
  {
   "cell_type": "code",
   "execution_count": 85,
   "metadata": {},
   "outputs": [],
   "source": [
    "#Can we predict housing cost y from x1-x4 data?\n",
    "x0 = [1,1,1,1] #extra row of 1s always for constant at begginining\n",
    "x1 = [2104, 1416, 1534, 852] #size in square feet.\n",
    "x2 = [5,3,3,2] #Number of bedrooms\n",
    "x3 = [1,2,2,1] #Number of floors\n",
    "x4 = [45, 40, 30,36] #age of house\n",
    "y = [460, 232, 315, 178] #price of home in $1ks\n",
    "\n",
    "X = np.array([x0, x1, x2, x3, x4]).T\n",
    "Y = np.array(y).T"
   ]
  },
  {
   "cell_type": "code",
   "execution_count": 98,
   "metadata": {},
   "outputs": [
    {
     "name": "stdout",
     "output_type": "stream",
     "text": [
      "X =  [[   1 2104    5    1   45]\n",
      " [   1 1416    3    2   40]\n",
      " [   1 1534    3    2   30]\n",
      " [   1  852    2    1   36]]\n",
      "\n",
      "\n",
      "Y =  [460 232 315 178]\n"
     ]
    }
   ],
   "source": [
    "print(\"X = \",X)\n",
    "print(\"\\n\")\n",
    "print(\"Y = \", Y)"
   ]
  },
  {
   "cell_type": "code",
   "execution_count": 94,
   "metadata": {},
   "outputs": [
    {
     "name": "stdout",
     "output_type": "stream",
     "text": [
      "[188.40031945   0.3866255  -56.13824955 -92.9672536   -3.73781915]\n"
     ]
    }
   ],
   "source": [
    "𝜃 = np.matmul( np.matmul( np.linalg.pinv( np.matmul(X.T, X)), X.T), Y)\n",
    "\n",
    "#Is this actually how you multiply matrices in python?! What the hell\n",
    "print(𝜃) \n",
    "#𝜃[0]+ 𝜃[1]*x1 + 𝜃[2]*x2 + 𝜃[3]*x3 + 𝜃[4]*x4"
   ]
  },
  {
   "cell_type": "markdown",
   "metadata": {},
   "source": [
    "## Pros and Cons:\n",
    "Gradient Descent \n",
    " - Need to choose $\\alpha$\n",
    " - Needs many iterations\n",
    " - Works well with large number of features\n",
    " \n",
    "Normal Equation \n",
    "- No need to choose $\\alpha$\n",
    "- No need to iterate\n",
    "- No need to feature scale\n",
    "- If we have a large number of features, this gets really slow"
   ]
  },
  {
   "cell_type": "code",
   "execution_count": null,
   "metadata": {},
   "outputs": [],
   "source": []
  },
  {
   "cell_type": "code",
   "execution_count": null,
   "metadata": {},
   "outputs": [],
   "source": []
  },
  {
   "cell_type": "code",
   "execution_count": 31,
   "metadata": {},
   "outputs": [
    {
     "data": {
      "text/plain": [
       "True"
      ]
     },
     "execution_count": 31,
     "metadata": {},
     "output_type": "execute_result"
    }
   ],
   "source": [
    "#hahahahahha\n",
    "x = [1,2,3]\n",
    "type(np.array(np.array(x))) == type(np.array(x))"
   ]
  }
 ],
 "metadata": {
  "kernelspec": {
   "display_name": "Python 3",
   "language": "python",
   "name": "python3"
  },
  "language_info": {
   "codemirror_mode": {
    "name": "ipython",
    "version": 3
   },
   "file_extension": ".py",
   "mimetype": "text/x-python",
   "name": "python",
   "nbconvert_exporter": "python",
   "pygments_lexer": "ipython3",
   "version": "3.8.0"
  }
 },
 "nbformat": 4,
 "nbformat_minor": 2
}
