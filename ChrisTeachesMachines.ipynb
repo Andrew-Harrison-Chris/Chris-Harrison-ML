{
 "cells": [
  {
   "cell_type": "markdown",
   "metadata": {},
   "source": [
    "**Chris DeGrendele** \n",
    "\n",
    "This is a notebook where I go through the following course, implementing some ideas and lessons.\n",
    "https://www.youtube.com/watch?v=PPLop4L2eGk&list=PLLssT5z_DsK-h9vYZkQkYNWcItqhlRJLN&index=1\n",
    "\n",
    "---"
   ]
  },
  {
   "cell_type": "code",
   "execution_count": 6,
   "metadata": {},
   "outputs": [],
   "source": [
    "import matplotlib.pyplot as plt\n",
    "from mpl_toolkits.mplot3d import Axes3D \n",
    "import numpy as np\n",
    "from random import random\n",
    "from numpy.random import rand"
   ]
  },
  {
   "cell_type": "markdown",
   "metadata": {},
   "source": [
    "# Univariate Linear Regression\n",
    "Assume a linear hypothesis:\n",
    "$h_{\\theta}(x) = \\theta_0 + \\theta_1x$\n",
    "\n",
    "Minimize:\n",
    "J$(\\theta_0, \\theta_1)$ = $\\frac{1}{2N}\\Sigma ^N_{i=1} \\left( h_{\\theta}(x^{(i)}) - y^{(i)} \\right)^2$\n",
    " \n",
    " $\\implies$ This is our **cost** function\n",
    " \n",
    " Our algorithm:\n",
    "         $\\theta_j := \\theta_j -\\alpha \\frac{\\partial}{\\partial \\theta_j}J(\\theta_0, \\theta_1)$"
   ]
  },
  {
   "cell_type": "code",
   "execution_count": 7,
   "metadata": {},
   "outputs": [],
   "source": [
    "x = np.array([1, 2, 3, 4, 5, 6, 7, 8, 9, 10])\n",
    "y = np.array([1, 3, 2, 4, 5, 7, 6, 8, 9 ,12])"
   ]
  },
  {
   "cell_type": "code",
   "execution_count": 8,
   "metadata": {},
   "outputs": [
    {
     "data": {
      "image/png": "[encoded data removed]",
      "text/plain": [
       "<Figure size 432x288 with 1 Axes>"
      ]
     },
     "metadata": {
      "needs_background": "light"
     },
     "output_type": "display_data"
    }
   ],
   "source": [
    "plt.scatter(x,y, marker='x')\n",
    "plt.xlabel(\"Time spent learning ML [hours]\")\n",
    "plt.ylabel(\"Harrison's Attractiveness $[\\sigma$ from mean]\");"
   ]
  },
  {
   "cell_type": "markdown",
   "metadata": {},
   "source": [
    "We will solve this using **batch gradient descent**\n",
    "\n",
    "$$\\theta_j =\\theta_j -\\alpha* \\frac{\\partial}{\\partial \\theta_j}J(\\theta_0, \\theta_1) \\text{ for } j = 0,1$$\n",
    "\n",
    "where $$\\frac{\\partial}{\\partial \\theta_0}J(\\theta_0, \\theta_1) = \\frac{1}{N}\\Sigma ^N_{i=1} \\left( h_{\\theta}(x^{(i)}) - y^{(i)} \\right)$$\n",
    "\n",
    "$$\\frac{\\partial}{\\partial \\theta_1}J(\\theta_0, \\theta_1) = \\frac{1}{N}\\Sigma ^N_{i=1} \\left( h_{\\theta}(x^{(i)}) - y^{(i)} \\right)*x^{(i)}$$"
   ]
  },
  {
   "cell_type": "code",
   "execution_count": 9,
   "metadata": {},
   "outputs": [],
   "source": [
    "def H(x, θ_0, θ_1):\n",
    "    return θ_0 + x*θ_1\n",
    "\n",
    "def cost(x,y,θ_0,θ_1):\n",
    "    sum = 0\n",
    "    for i in range(len(x)):\n",
    "        sum += ( H(x[i], θ_0, θ_1) - y[i] )**2\n",
    "    return 1/(2*len(x)) * sum\n",
    "    \n",
    "\n",
    "def gradient_descent(x, y, α, tol, verbose=True):\n",
    "    assert len(x) == len(y)\n",
    "    N = len(x) \n",
    "    \n",
    "    θ_0, θ_1 = random(), random()\n",
    "    \n",
    "    while cost(x,y,θ_0,θ_1) > tol:\n",
    "        if verbose: print(\"Cost: \",cost(x,y,θ_0,θ_1))\n",
    "        temp0, temp1 = 0,0\n",
    "        for i in range(N):\n",
    "            temp0 += H(x[i], θ_0, θ_1) - y[i]\n",
    "            temp1 += (H(x[i], θ_0, θ_1) - y[i])*x[i]\n",
    "\n",
    "        θ_0 = θ_0 - α*temp0/N\n",
    "        θ_1 =  θ_1 - α*temp1/N\n",
    "\n",
    "\n",
    "\n",
    "    return θ_0, θ_1"
   ]
  },
  {
   "cell_type": "code",
   "execution_count": 10,
   "metadata": {},
   "outputs": [
    {
     "name": "stdout",
     "output_type": "stream",
     "text": [
      "Cost:  16.25080433871334\n",
      "Cost:  6.307462128866269\n",
      "Cost:  2.642237486284543\n",
      "Cost:  1.2909411559696444\n",
      "Cost:  0.7924913802402113\n",
      "Cost:  0.6083770580706777\n",
      "Cost:  0.5401190756679873\n",
      "Cost:  0.5145639531343361\n",
      "Cost:  0.5047494958254536\n",
      "Cost:  0.5007382371545509\n"
     ]
    }
   ],
   "source": [
    "θ_0, θ_1 = gradient_descent(x,y,.01,0.5)"
   ]
  },
  {
   "cell_type": "code",
   "execution_count": 11,
   "metadata": {},
   "outputs": [
    {
     "data": {
      "image/png": "[encoded data removed]",
      "text/plain": [
       "<Figure size 432x288 with 1 Axes>"
      ]
     },
     "metadata": {
      "needs_background": "light"
     },
     "output_type": "display_data"
    }
   ],
   "source": [
    "plt.scatter(x,y, marker='x')\n",
    "plt.plot(x, θ_0+ x*θ_1, color=\"red\")\n",
    "plt.xlabel(\"Time spent learning ML [hours]\")\n",
    "plt.ylabel(\"Harrison's Attractiveness $[\\sigma$ from mean]\");"
   ]
  },
  {
   "cell_type": "markdown",
   "metadata": {},
   "source": [
    "# Multivariate Linear Regression\n",
    "$x^{(i)}_j\\equiv$ value of feature j in $i^{th}$ training example \n",
    "\n",
    "Our hypothesis now takes the form: $h_{\\theta} = \\theta_0 + \\Sigma ^N _{i = 1} x_i \\theta_i$\n",
    "\n",
    "For convience of notation, we can let $x_0 = 1$\n",
    "\n",
    "such that: $h_{\\theta} = \\vec{\\Theta}^T\\vec{X}$\n",
    "\n",
    "J is then: J$(\\vec{\\Theta})$ = $\\frac{1}{2N}\\Sigma ^N_{i=1} \\left( h_{\\theta}(x^{(i)}) - y^{(i)} \\right)^2$\n",
    "\n",
    "and finally our algorithm:\n",
    "$\\theta_j := \\theta_j -\\alpha \\frac{\\partial}{\\partial \\theta_j}J(\\vec{\\Theta})$\n",
    "\n",
    "$\\theta_j := \\theta_j -\\alpha \\frac{1}{N} \\Sigma ^N _{i=1} \\left( h_{\\theta} (x^{(i)}) - y^{(i)} \\right)x^{(i)}_j$ simultaneously update $\\theta_j$ for all j"
   ]
  },
  {
   "cell_type": "code",
   "execution_count": 51,
   "metadata": {},
   "outputs": [],
   "source": [
    "def H(x, θ): \n",
    "    return np.dot(x,θ)\n",
    "\n",
    "def cost(X, z, θ):\n",
    "    sum = 0\n",
    "    for i in range(len(X[1])):\n",
    "        sum += ( H(X[:,i], θ) - z[i] )**2\n",
    "    return 1/(2*len(X[1])) * sum\n",
    "    \n",
    "\n",
    "def multi_gradient_descent(X, z, α,tol, verbose=True):\n",
    "    '''X is an [i,j] matrix where i is the number of training \n",
    "    variables and j is the number of points.\n",
    "    z is the solution\n",
    "    α is the learning rate, proportional to the size of steps\n",
    "    tol is the tolerance of the solution accepted, evaulated \n",
    "    by the cost()'''\n",
    "    \n",
    "    assert len(X[0]) == len(z)\n",
    "    \n",
    "    X = np.vstack( (np.ones(len(X[1])), X) ) #add row of x_0's = 1\n",
    "    N, N_p = X.shape #Number of θ, Number of points\n",
    "\n",
    "    θ = rand(N)\n",
    "    \n",
    "    while cost(X, z, θ) > tol:\n",
    "        \n",
    "        if verbose: print(\"Cost: \",cost(X, z, θ))\n",
    "        temp = np.zeros(N)\n",
    "        for j in range(N):\n",
    "            for i in range(N_p):\n",
    "                temp += (H(X[:,i], θ) - z[i])*X[j,i]\n",
    "\n",
    "        θ = θ - α*temp/N\n",
    "\n",
    "    return θ"
   ]
  },
  {
   "cell_type": "code",
   "execution_count": 52,
   "metadata": {
    "scrolled": true
   },
   "outputs": [
    {
     "name": "stdout",
     "output_type": "stream",
     "text": [
      "Cost:  0.24063650617904164\n",
      "Cost:  0.23852585458013598\n",
      "Cost:  0.23644003519831536\n",
      "Cost:  0.23437875587782778\n",
      "Cost:  0.23234172790018826\n",
      "Cost:  0.2303286659437415\n",
      "Cost:  0.2283392880436937\n",
      "Cost:  0.2263733155526221\n",
      "Cost:  0.22443047310144273\n",
      "Cost:  0.22251048856084152\n",
      "Cost:  0.22061309300315735\n",
      "Cost:  0.21873802066471493\n",
      "Cost:  0.21688500890859763\n",
      "Cost:  0.21505379818786352\n",
      "Cost:  0.21324413200918838\n",
      "Cost:  0.2114557568969423\n",
      "Cost:  0.20968842235768304\n",
      "Cost:  0.20794188084507148\n",
      "Cost:  0.20621588772519914\n",
      "Cost:  0.20451020124232056\n",
      "Cost:  0.20282458248499322\n",
      "Cost:  0.2011587953526134\n"
     ]
    },
    {
     "data": {
      "image/png": "[encoded data removed]",
      "text/plain": [
       "<Figure size 432x288 with 1 Axes>"
      ]
     },
     "metadata": {
      "needs_background": "light"
     },
     "output_type": "display_data"
    }
   ],
   "source": [
    "x = [1,2,3,4,5,6,7,8,9,10]\n",
    "y = [1,2,3,4,5,6,7,8,9,10]\n",
    "z = [1,2,3,4,5,6,7,8,9,10]\n",
    "\n",
    "X = np.array([x,y])\n",
    "θ = multi_gradient_descent(X, z, .00001, 0.2, verbose=True)\n",
    "\n",
    "fig = plt.figure()\n",
    "ax = fig.add_subplot(111, projection='3d')\n",
    "\n",
    "ax.scatter(x,y,z)\n",
    "ax.plot(x,y, θ[0] + np.array(x)*θ[1] + np.array(y)*θ[2], color='red')\n",
    "ax.set_xlabel('x')\n",
    "ax.set_ylabel('y')\n",
    "ax.set_zlabel('z  ');"
   ]
  },
  {
   "cell_type": "markdown",
   "metadata": {},
   "source": [
    "**Notes about gradient descent:**\n",
    "\n",
    "It will most likely get stuck in a local minima and not find a global minimum. \n",
    "\n",
    "Feature scaling - make sure features are on a similiar scale. If scale is too big in one direction, it will have a much harder time because it will traverse in the direction of steepest descent. Generally, just get all features in the -1 < $x_i$ < 1\n",
    "\n",
    "- Mean normalization - replace $x_i$ with $x_i - \\mu_i$ to make features have an approximatley zero mean. Obviously don't apply to $x_0$ which is just an array of 1s\n",
    "\n",
    "How to choose a learning rate $\\alpha$:\n",
    "- Cost function $J(\\theta)$ should decrease after every iteration\n",
    "- plot of cost function vs no. of iterations can be helpful in seeing whats going on\n",
    "- If $\\alpha$ is too small, there will be a slow convergence. If it's too large, it may not decrease on every iteration, may not converge at all."
   ]
  },
  {
   "cell_type": "markdown",
   "metadata": {},
   "source": [
    "# Polynomial Regression\n",
    "\n",
    "Lets say we know housing cost scales as a function of area. But it's not linear, it's say cubic plus a squareroot term. Letting x = area we can write our cost function:\n",
    "\n",
    "Cost = $\\theta_0 +\\theta_1 x_1 + \\theta_2 x^2 + \\theta_3x^3 + \\theta_4 \\sqrt{x}$\n",
    "\n",
    "by writing it in this nature, this still enables us to use all our tools for linear regression, with just a simple switch of cost function."
   ]
  },
  {
   "cell_type": "code",
   "execution_count": 53,
   "metadata": {},
   "outputs": [],
   "source": [
    "def H(x, θ): \n",
    "    return x[0]*θ[0] + x[1]*θ[1] * x[1]**2*θ[2] + x[1]**3*θ[3] + x[1]*np.sqrt(x[1])\n",
    "\n",
    "x = [1,2,3,4,5,6,7,8,9,10]\n",
    "z = [1,2,3,4,5,6,7,8,9,10]\n",
    "\n",
    "X = np.array(x)**2\n",
    "fixed = False\n",
    "if fixed:\n",
    "#in order for this to work i need to restructure multi_gradient_descent to independely input \n",
    "#number of theta, not depend on length. It's not really worth doing right now I think. but maybe I'll come \n",
    "#back to it.\n",
    "\n",
    "    θ = multi_gradient_descent(X, z, .00001, 2, verbose=True)\n",
    "\n",
    "    fig = plt.figure()\n",
    "    ax = fig.add_subplot(111, projection='3d')\n",
    "\n",
    "    ax.scatter(x,y,z)\n",
    "    ax.plot(x,y, θ[0] + np.array(x)*θ[1] + np.array(y)*θ[2])\n",
    "    ax.set_xlabel('x')\n",
    "    ax.set_ylabel('y')\n",
    "    ax.set_zlabel('z  ');"
   ]
  },
  {
   "cell_type": "markdown",
   "metadata": {},
   "source": [
    "# Normal Equation \n",
    "- A different way to solve for optimal $\\theta$, but this time it's analytic.\n",
    "\n",
    "Normal Equation: $\\theta = (X^TX)^{-1}X^Ty$\n",
    "\n",
    "X is called the \"Design Matrix\"\n",
    "\n",
    "What if $X^TX$ is non-invertible? Singular/degenerate\n",
    " - There are redundant features (Linearly dependent).\n",
    " - Too many features. If you fit a parameter vector $theta$ of size 100 on 10 examples. \n",
    "\n",
    "We can use the pseudoinverse.\n",
    "\n",
    "\n",
    "To find minimum: (Derived from:)\n",
    "\n",
    "$\\frac{\\partial}{\\partial \\theta_j}J(\\theta) = .... = 0$ (for every j)\n",
    "Solve for $\\theta_0, \\theta_1, \\theta_2... $\n",
    "\n",
    "Below is an example:"
   ]
  },
  {
   "cell_type": "code",
   "execution_count": 54,
   "metadata": {},
   "outputs": [],
   "source": [
    "#Can we predict housing cost y from x1-x4 data?\n",
    "x0 = [1,1,1,1] #extra row of 1s always for constant at begginining\n",
    "x1 = [2104, 1416, 1534, 852] #size in square feet.\n",
    "x2 = [5,3,3,2] #Number of bedrooms\n",
    "x3 = [1,2,2,1] #Number of floors\n",
    "x4 = [45, 40, 30,36] #age of house\n",
    "y = [460, 232, 315, 178] #price of home in $1ks\n",
    "\n",
    "X = np.array([x0, x1, x2, x3, x4]).T\n",
    "Y = np.array(y).T"
   ]
  },
  {
   "cell_type": "code",
   "execution_count": 55,
   "metadata": {},
   "outputs": [
    {
     "name": "stdout",
     "output_type": "stream",
     "text": [
      "X =  [[   1 2104    5    1   45]\n",
      " [   1 1416    3    2   40]\n",
      " [   1 1534    3    2   30]\n",
      " [   1  852    2    1   36]]\n",
      "\n",
      "\n",
      "Y =  [460 232 315 178]\n"
     ]
    }
   ],
   "source": [
    "print(\"X = \",X)\n",
    "print(\"\\n\")\n",
    "print(\"Y = \", Y)"
   ]
  },
  {
   "cell_type": "code",
   "execution_count": 56,
   "metadata": {},
   "outputs": [
    {
     "name": "stdout",
     "output_type": "stream",
     "text": [
      "[188.40031945   0.3866255  -56.13824955 -92.9672536   -3.73781915]\n"
     ]
    }
   ],
   "source": [
    "𝜃 = np.matmul( np.matmul( np.linalg.pinv( np.matmul(X.T, X)), X.T), Y)\n",
    "\n",
    "#Is this actually how you multiply matrices in python?! What the hell\n",
    "print(𝜃) \n",
    "#𝜃[0]+ 𝜃[1]*x1 + 𝜃[2]*x2 + 𝜃[3]*x3 + 𝜃[4]*x4"
   ]
  },
  {
   "cell_type": "markdown",
   "metadata": {},
   "source": [
    "## Pros and Cons:\n",
    "Gradient Descent \n",
    " - Need to choose $\\alpha$\n",
    " - Needs many iterations\n",
    " - Works well with large number of features\n",
    " \n",
    "Normal Equation \n",
    "- No need to choose $\\alpha$\n",
    "- No need to iterate\n",
    "- No need to feature scale\n",
    "- If we have a large number of features, this gets really slow"
   ]
  },
  {
   "cell_type": "markdown",
   "metadata": {},
   "source": [
    "# Logistic Regression\n",
    "Using linear regression on classification problems is not a good idea. There can be a clear trend in data, but adding another data point, that still follows that trend will cause the line to shift. For example, if we have more data on one side than the other, linear regression will natrually shift towards that side, even if it's not following the trend. We turn to **logistic regression**.\n",
    "\n",
    "We want: $ 0 \\leq h_{\\theta}(x) \\leq 1$\n",
    "$h_{\\theta}$\n",
    "\n",
    "$ h_{\\theta} = g(\\vec{\\theta} \\cdot \\vec{x}) $\n",
    "\n",
    "where: $g(z) = \\frac{1}{1+e^{-z}} \\implies$ This is the **sigmoid function** aka the **logistic function**\n",
    "\n",
    "$h_{\\theta}(x) = \\frac{1}{1+e^{-\\vec{\\theta} \\cdot \\vec{x}}}$\n",
    "\n",
    "This will work well for classification problems (0 or 1), either a tumor or not a tumor. The output will be [0,1] which corresponds to the percent chance. A 0.70 = 70% chance of being paramater 1"
   ]
  },
  {
   "cell_type": "code",
   "execution_count": 57,
   "metadata": {},
   "outputs": [
    {
     "data": {
      "image/png": "[encoded data removed]",
      "text/plain": [
       "<Figure size 432x288 with 1 Axes>"
      ]
     },
     "metadata": {
      "needs_background": "light"
     },
     "output_type": "display_data"
    }
   ],
   "source": [
    "x = np.arange(-10,10,.001)\n",
    "def sigmoid(x):\n",
    "    return 1/(1+np.exp(-x))\n",
    "y = sigmoid(x)\n",
    "plt.plot(x,y)\n",
    "plt.title(\"Sigmoid Function\");"
   ]
  },
  {
   "cell_type": "markdown",
   "metadata": {},
   "source": [
    "Hypothesis predicts y = 1 when $h_\\theta (x) \\geq 0.5$\n",
    "\n",
    "Hypothesis predicts y = 0 when $h_\\theta (x) \\leq 0.5$\n",
    "\n",
    "Orginally we were using a cost function:\n",
    "\n",
    "J$(\\theta)$ = $\\frac{1}{N}\\Sigma ^N_{i=1}0.5* \\left( h_{\\theta}(x^{(i)}) - y^{(i)} \\right)^2$\n",
    "\n",
    "We will define \"cost\" function:\n",
    "J$(\\theta)$ = $\\frac{1}{N}\\Sigma ^N_{i=1} cost( h_{\\theta}(x), y)$\n",
    "\n",
    "\n",
    "\n",
    "where we can just set $h_\\theta =  \\frac{1}{1+e^{-\\vec{\\theta} \\cdot \\vec{x}}}$\n",
    "\n",
    "This might be all fine and dandy. We can run gradient descent on this too. However, this is a \"non-convex\" function, in the sense that the non linear sigmoid function squared will produce a lot of wiggles. Gradient descent will get stuck in a local minima and not converge to a global maximum. Therefore we need something better, so we can make $J(\\theta)$ convex and smooth so we can use gradient descent. \n",
    "\n",
    "Our new cost function for this problem:\n",
    "\n",
    "\n",
    "\n",
    "  $$  cost(h_\\theta(x),y) \n",
    "\\begin{cases}\n",
    "    -log(h_\\theta(x)),& \\text{if } y=1\\\\\n",
    "    -log(1-h_\\theta(x)),              & \\text{if } y=0\n",
    "\\end{cases}$$\n",
    "\n",
    "#### Some intuition of this cost function:\n"
   ]
  },
  {
   "cell_type": "code",
   "execution_count": 58,
   "metadata": {},
   "outputs": [
    {
     "data": {
      "image/png": "[encoded data removed]",
      "text/plain": [
       "<Figure size 432x288 with 1 Axes>"
      ]
     },
     "metadata": {
      "needs_background": "light"
     },
     "output_type": "display_data"
    }
   ],
   "source": [
    "h_theta = np.arange(0.001,.999,.00001)\n",
    "y = -np.log(h_theta)\n",
    "y2 = -np.log(1-h_theta)\n",
    "plt.plot(h_theta,y, label=\"if y=1\")\n",
    "plt.plot(h_theta,y2, label=\"if y=0\")\n",
    "plt.legend()\n",
    "plt.xlabel(\"h_theta(x)\")\n",
    "plt.ylabel(\"cost\");"
   ]
  },
  {
   "cell_type": "markdown",
   "metadata": {},
   "source": [
    "For a concrete example lets say y=1 implies the tumor is cancerous, and y=0 implies the tumor is not. Thus, below $h_\\theta(x)$ is again trying to predict between $[0,1]$ if the tumor is cancerous. The closer it is to the correct answer, the better -  \n",
    "\n",
    "If y=1 and $h_\\theta(x)$ is predicting 1, the cost goes to zero. But as we go to predicting 0, the cost function grows, increasingly higher to cause a bigger penalty. \n",
    "\n",
    "The reverse is also true, if y=0 and $h_\\theta(x)$ is predicting 0, the cost goes to zero. \n",
    "\n",
    "Since y can only be 0,1 we can rewrite the cost function to:\n",
    "$$cost( h_{\\theta}(x), y) = -ylog(h_\\theta(x)) - (1-y)log(1-h_\\theta(x))$$"
   ]
  },
  {
   "cell_type": "markdown",
   "metadata": {},
   "source": [
    "# Complete Logistic Regression"
   ]
  },
  {
   "cell_type": "markdown",
   "metadata": {},
   "source": [
    "$$J(\\theta) = \\frac{1}{N}\\Sigma ^N_{i=1} cost( h_{\\theta}(x), y)$$\n",
    "$$J(\\theta) =-\\frac{1}{N} \\left( \\Sigma ^N_{i=1} y^{(i)} log(h_\\theta(x^{(i)})) - (1-y^{(i)})log(1-h_\\theta(x^{(i)})) \\right)$$\n",
    "$$h_{\\theta}(x) = \\frac{1}{1+e^{-\\vec{\\theta} \\cdot \\vec{x}}}$$\n",
    "\n",
    "Gradient Descent Algorithm:\n",
    "$$\\theta_{j}:=\\theta_{j}-\\alpha \\frac{\\partial}{\\partial \\theta_{j}} J(\\theta)$$\n",
    "$$\\theta_{j}:=\\theta_{j}-\\alpha \\sum_{i=1}^{m}\\left(h_{\\theta}\\left(x^{(i)}\\right)-y^{(i)}\\right) x_{j}^{(i)}$$"
   ]
  },
  {
   "cell_type": "markdown",
   "metadata": {},
   "source": []
  },
  {
   "cell_type": "code",
   "execution_count": 59,
   "metadata": {},
   "outputs": [
    {
     "ename": "SyntaxError",
     "evalue": "invalid syntax (<ipython-input-59-e1bbe5c038cc>, line 19)",
     "output_type": "error",
     "traceback": [
      "\u001b[0;36m  File \u001b[0;32m\"<ipython-input-59-e1bbe5c038cc>\"\u001b[0;36m, line \u001b[0;32m19\u001b[0m\n\u001b[0;31m    if\u001b[0m\n\u001b[0m       ^\u001b[0m\n\u001b[0;31mSyntaxError\u001b[0m\u001b[0;31m:\u001b[0m invalid syntax\n"
     ]
    }
   ],
   "source": [
    "def H(x, θ): \n",
    "    return 1 / (1 + np.exp(-np.dot(x,θ)))\n",
    "\n",
    "def cost(X, z, θ):\n",
    "    sum = 0\n",
    "    for i in range(len(X[1])):\n",
    "        sum += z[i]*np.log(H(X[:,i], θ)) - (1-z[i])*np.log(1-H(X[:,i], θ)) \n",
    "    return 1/(2*len(X[1])) * sum\n",
    "    \n",
    "\n",
    "def multi_gradient_descent(X, z, α,tol, verbose=True):\n",
    "    '''X is an [i,j] matrix where i is the number of training \n",
    "    variables and j is the number of points.\n",
    "    z is the solution\n",
    "    α is the learning rate, proportional to the size of steps\n",
    "    tol is the tolerance of the solution accepted, evaulated \n",
    "    by the cost()'''\n",
    "    \n",
    "    if \n",
    "    assert len(X[0]) == len(z)\n",
    "    \n",
    "    X = np.vstack( (np.ones(len(X[1])), X) ) #add row of x_0's = 1\n",
    "    N, N_p = X.shape #Number of θ, Number of points\n",
    "\n",
    "    θ = rand(N)\n",
    "    \n",
    "    while cost(X, z, θ) > tol:\n",
    "        \n",
    "        if verbose: print(\"Cost: \",cost(X, z, θ))\n",
    "        temp = np.zeros(N)\n",
    "        for j in range(N):\n",
    "            for i in range(N_p):\n",
    "                temp += (H(X[:,i], θ) - z[i])*X[j,i]\n",
    "\n",
    "        θ = θ - α*temp/N\n",
    "\n",
    "    return θ"
   ]
  },
  {
   "cell_type": "code",
   "execution_count": 60,
   "metadata": {},
   "outputs": [
    {
     "data": {
      "text/plain": [
       "<matplotlib.collections.PathCollection at 0x1127c4490>"
      ]
     },
     "execution_count": 60,
     "metadata": {},
     "output_type": "execute_result"
    },
    {
     "data": {
      "image/png": "[encoded data removed]",
      "text/plain": [
       "<Figure size 432x288 with 1 Axes>"
      ]
     },
     "metadata": {
      "needs_background": "light"
     },
     "output_type": "display_data"
    }
   ],
   "source": [
    "x = [0,1,2,3,4,5,6,7,8,9,10]\n",
    "z = [0,0,0,0,1,0,1,1,1,1,1]\n",
    "plt.scatter(x,z)"
   ]
  },
  {
   "cell_type": "code",
   "execution_count": 61,
   "metadata": {},
   "outputs": [
    {
     "ename": "TypeError",
     "evalue": "object of type 'int' has no len()",
     "output_type": "error",
     "traceback": [
      "\u001b[0;31m---------------------------------------------------------------------------\u001b[0m",
      "\u001b[0;31mTypeError\u001b[0m                                 Traceback (most recent call last)",
      "\u001b[0;32m<ipython-input-61-2408e003c65c>\u001b[0m in \u001b[0;36m<module>\u001b[0;34m\u001b[0m\n\u001b[0;32m----> 1\u001b[0;31m \u001b[0mmulti_gradient_descent\u001b[0m\u001b[0;34m(\u001b[0m\u001b[0mx\u001b[0m\u001b[0;34m,\u001b[0m \u001b[0mz\u001b[0m\u001b[0;34m,\u001b[0m \u001b[0;36m0.1\u001b[0m\u001b[0;34m,\u001b[0m\u001b[0;36m2\u001b[0m\u001b[0;34m,\u001b[0m \u001b[0mverbose\u001b[0m\u001b[0;34m=\u001b[0m\u001b[0;32mTrue\u001b[0m\u001b[0;34m)\u001b[0m\u001b[0;34m\u001b[0m\u001b[0;34m\u001b[0m\u001b[0m\n\u001b[0m",
      "\u001b[0;32m<ipython-input-51-239c9161a28f>\u001b[0m in \u001b[0;36mmulti_gradient_descent\u001b[0;34m(X, z, α, tol, verbose)\u001b[0m\n\u001b[1;32m     17\u001b[0m     by the cost()'''\n\u001b[1;32m     18\u001b[0m \u001b[0;34m\u001b[0m\u001b[0m\n\u001b[0;32m---> 19\u001b[0;31m     \u001b[0;32massert\u001b[0m \u001b[0mlen\u001b[0m\u001b[0;34m(\u001b[0m\u001b[0mX\u001b[0m\u001b[0;34m[\u001b[0m\u001b[0;36m0\u001b[0m\u001b[0;34m]\u001b[0m\u001b[0;34m)\u001b[0m \u001b[0;34m==\u001b[0m \u001b[0mlen\u001b[0m\u001b[0;34m(\u001b[0m\u001b[0mz\u001b[0m\u001b[0;34m)\u001b[0m\u001b[0;34m\u001b[0m\u001b[0;34m\u001b[0m\u001b[0m\n\u001b[0m\u001b[1;32m     20\u001b[0m \u001b[0;34m\u001b[0m\u001b[0m\n\u001b[1;32m     21\u001b[0m     \u001b[0mX\u001b[0m \u001b[0;34m=\u001b[0m \u001b[0mnp\u001b[0m\u001b[0;34m.\u001b[0m\u001b[0mvstack\u001b[0m\u001b[0;34m(\u001b[0m \u001b[0;34m(\u001b[0m\u001b[0mnp\u001b[0m\u001b[0;34m.\u001b[0m\u001b[0mones\u001b[0m\u001b[0;34m(\u001b[0m\u001b[0mlen\u001b[0m\u001b[0;34m(\u001b[0m\u001b[0mX\u001b[0m\u001b[0;34m[\u001b[0m\u001b[0;36m1\u001b[0m\u001b[0;34m]\u001b[0m\u001b[0;34m)\u001b[0m\u001b[0;34m)\u001b[0m\u001b[0;34m,\u001b[0m \u001b[0mX\u001b[0m\u001b[0;34m)\u001b[0m \u001b[0;34m)\u001b[0m \u001b[0;31m#add row of x_0's = 1\u001b[0m\u001b[0;34m\u001b[0m\u001b[0;34m\u001b[0m\u001b[0m\n",
      "\u001b[0;31mTypeError\u001b[0m: object of type 'int' has no len()"
     ]
    }
   ],
   "source": [
    "multi_gradient_descent(x, z, 0.1,2, verbose=True)"
   ]
  },
  {
   "cell_type": "code",
   "execution_count": null,
   "metadata": {},
   "outputs": [],
   "source": []
  }
 ],
 "metadata": {
  "kernelspec": {
   "display_name": "Python 3",
   "language": "python",
   "name": "python3"
  },
  "language_info": {
   "codemirror_mode": {
    "name": "ipython",
    "version": 3
   },
   "file_extension": ".py",
   "mimetype": "text/x-python",
   "name": "python",
   "nbconvert_exporter": "python",
   "pygments_lexer": "ipython3",
   "version": "3.8.0"
  }
 },
 "nbformat": 4,
 "nbformat_minor": 2
}
