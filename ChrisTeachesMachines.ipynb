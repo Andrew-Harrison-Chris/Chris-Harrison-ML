{
 "cells": [
  {
   "cell_type": "markdown",
   "metadata": {},
   "source": [
    "**Chris DeGrendele**\n",
    "\n",
    "This is a notebook where I go through the following course, implementing some ideas and lessons.\n",
    "https://www.youtube.com/watch?v=PPLop4L2eGk&list=PLLssT5z_DsK-h9vYZkQkYNWcItqhlRJLN&index=1\n",
    "\n",
    "---"
   ]
  },
  {
   "cell_type": "markdown",
   "metadata": {},
   "source": [
    "# Univariate Linear Regression\n",
    "Assume a linear hypothesis:\n",
    "$h_{\\theta}(x) = \\theta_0 + \\theta_1x$\n",
    "\n",
    "Minimize:\n",
    "J$(\\theta_0, \\theta_1)$ = $\\frac{1}{2N}\\Sigma ^N_{i=1} \\left( h_{\\theta}(x^{(i)}) - y^{(i)} \\right)^2$\n",
    " \n",
    " $\\implies$ This is out **cost** function"
   ]
  },
  {
   "cell_type": "code",
   "execution_count": 132,
   "metadata": {},
   "outputs": [],
   "source": [
    "import matplotlib.pyplot as plt\n",
    "import numpy as np\n",
    "from random import random\n",
    "\n",
    "x = np.array([1, 2, 3, 4, 5, 6, 7, 8, 9, 10])\n",
    "y = np.array([1, 3, 2, 4, 5, 7, 6, 8, 9 ,12])"
   ]
  },
  {
   "cell_type": "code",
   "execution_count": 133,
   "metadata": {},
   "outputs": [
    {
     "data": {
      "image/png": "[encoded data removed]",
      "text/plain": [
       "<Figure size 432x288 with 1 Axes>"
      ]
     },
     "metadata": {
      "needs_background": "light"
     },
     "output_type": "display_data"
    }
   ],
   "source": [
    "plt.scatter(x,y, marker='x')\n",
    "plt.xlabel(\"Time spent learning ML [hours]\")\n",
    "plt.ylabel(\"Harrison's Attractiveness $[\\sigma$ from mean]\");"
   ]
  },
  {
   "cell_type": "markdown",
   "metadata": {},
   "source": [
    "We will solve this using **batch gradient descent**\n",
    "\n",
    "$$\\theta_j =\\theta_j -\\alpha* \\frac{\\partial}{\\partial \\theta_j}J(\\theta_0, \\theta_1) \\text{ for } j = 0,1$$\n",
    "\n",
    "where $$\\frac{\\partial}{\\partial \\theta_0}J(\\theta_0, \\theta_1) = \\frac{1}{N}\\Sigma ^N_{i=1} \\left( h_{\\theta}(x^{(i)}) - y^{(i)} \\right)$$\n",
    "\n",
    "$$\\frac{\\partial}{\\partial \\theta_1}J(\\theta_0, \\theta_1) = \\frac{1}{N}\\Sigma ^N_{i=1} \\left( h_{\\theta}(x^{(i)}) - y^{(i)} \\right)*x^{(i)}$$"
   ]
  },
  {
   "cell_type": "code",
   "execution_count": 134,
   "metadata": {},
   "outputs": [],
   "source": [
    "def H(x, θ_0, θ_1):\n",
    "    return θ_0 + x*θ_1\n",
    "\n",
    "def cost(x,y,θ_0,θ_1):\n",
    "    sum = 0\n",
    "    for i in range(len(x)):\n",
    "        sum += ( H(x[i], θ_0, θ_1) - y[i] )**2\n",
    "    return 1/(2*len(x)) * sum\n",
    "    \n",
    "\n",
    "def gradient_descent(x,y,α,tol):\n",
    "    assert len(x) == len(y)\n",
    "    N = len(x) \n",
    "    \n",
    "    θ_0, θ_1 = random(), random()\n",
    "    \n",
    "    while cost(x,y,θ_0,θ_1) > tol:\n",
    "        print(\"Cost: \",cost(x,y,θ_0,θ_1))\n",
    "        temp0, temp1 = 0,0\n",
    "        for i in range(N):\n",
    "            temp0 += H(x[i], θ_0, θ_1) - y[i]\n",
    "            temp1 += (H(x[i], θ_0, θ_1) - y[i])*x[i]\n",
    "\n",
    "        θ_0 = θ_0 - α*temp0/N\n",
    "        θ_1 =  θ_1 - α*temp1/N\n",
    "\n",
    "\n",
    "\n",
    "    return θ_0, θ_1"
   ]
  },
  {
   "cell_type": "code",
   "execution_count": 137,
   "metadata": {},
   "outputs": [
    {
     "name": "stdout",
     "output_type": "stream",
     "text": [
      "Cost:  4.628701203452846\n",
      "Cost:  1.9527171386248072\n",
      "Cost:  0.966322265056291\n",
      "Cost:  0.6026599491942967\n"
     ]
    }
   ],
   "source": [
    "θ_0, θ_1 = gradient_descent(x,y,.01,0.5)"
   ]
  },
  {
   "cell_type": "code",
   "execution_count": 140,
   "metadata": {},
   "outputs": [
    {
     "data": {
      "image/png": "[encoded data removed]",
      "text/plain": [
       "<Figure size 432x288 with 1 Axes>"
      ]
     },
     "metadata": {
      "needs_background": "light"
     },
     "output_type": "display_data"
    }
   ],
   "source": [
    "plt.scatter(x,y, marker='x')\n",
    "plt.plot(x, θ_0+ x*θ_1, color=\"red\")\n",
    "plt.xlabel(\"Time spent learning ML [hours]\")\n",
    "plt.ylabel(\"Harrison's Attractiveness $[\\sigma$ from mean]\");"
   ]
  },
  {
   "cell_type": "code",
   "execution_count": null,
   "metadata": {},
   "outputs": [],
   "source": []
  },
  {
   "cell_type": "code",
   "execution_count": null,
   "metadata": {},
   "outputs": [],
   "source": []
  }
 ],
 "metadata": {
  "kernelspec": {
   "display_name": "Python 3",
   "language": "python",
   "name": "python3"
  },
  "language_info": {
   "codemirror_mode": {
    "name": "ipython",
    "version": 3
   },
   "file_extension": ".py",
   "mimetype": "text/x-python",
   "name": "python",
   "nbconvert_exporter": "python",
   "pygments_lexer": "ipython3",
   "version": "3.8.0"
  }
 },
 "nbformat": 4,
 "nbformat_minor": 2
}
