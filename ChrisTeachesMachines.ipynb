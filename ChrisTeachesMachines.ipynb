{
 "cells": [
  {
   "cell_type": "markdown",
   "metadata": {},
   "source": [
    "**Chris DeGrendele** \n",
    "\n",
    "This is a notebook where I go through the following course, implementing some ideas and lessons.\n",
    "https://www.youtube.com/watch?v=PPLop4L2eGk&list=PLLssT5z_DsK-h9vYZkQkYNWcItqhlRJLN&index=1\n",
    "\n",
    "---"
   ]
  },
  {
   "cell_type": "code",
   "execution_count": 7,
   "metadata": {},
   "outputs": [],
   "source": [
    "import matplotlib.pyplot as plt\n",
    "from mpl_toolkits.mplot3d import Axes3D \n",
    "import numpy as np\n",
    "from random import random\n",
    "from numpy.random import rand"
   ]
  },
  {
   "cell_type": "markdown",
   "metadata": {},
   "source": [
    "# Univariate Linear Regression\n",
    "Assume a linear hypothesis:\n",
    "$h_{\\theta}(x) = \\theta_0 + \\theta_1x$\n",
    "\n",
    "Minimize:\n",
    "J$(\\theta_0, \\theta_1)$ = $\\frac{1}{2N}\\Sigma ^N_{i=1} \\left( h_{\\theta}(x^{(i)}) - y^{(i)} \\right)^2$\n",
    " \n",
    " $\\implies$ This is our **cost** function\n",
    " \n",
    " Our algorithm:\n",
    "         $\\theta_j := \\theta_j -\\alpha \\frac{\\partial}{\\partial \\theta_j}J(\\theta_0, \\theta_1)$"
   ]
  },
  {
   "cell_type": "code",
   "execution_count": 8,
   "metadata": {},
   "outputs": [],
   "source": [
    "x = np.array([1, 2, 3, 4, 5, 6, 7, 8, 9, 10])\n",
    "y = np.array([1, 3, 2, 4, 5, 7, 6, 8, 9 ,12])"
   ]
  },
  {
   "cell_type": "code",
   "execution_count": 9,
   "metadata": {},
   "outputs": [
    {
     "data": {
      "image/png": "[encoded data removed]",
      "text/plain": [
       "<Figure size 432x288 with 1 Axes>"
      ]
     },
     "metadata": {
      "needs_background": "light"
     },
     "output_type": "display_data"
    }
   ],
   "source": [
    "plt.scatter(x,y, marker='x')\n",
    "plt.xlabel(\"Time spent learning ML [hours]\")\n",
    "plt.ylabel(\"Harrison's Attractiveness $[\\sigma$ from mean]\");"
   ]
  },
  {
   "cell_type": "markdown",
   "metadata": {},
   "source": [
    "We will solve this using **batch gradient descent**\n",
    "\n",
    "$$\\theta_j =\\theta_j -\\alpha* \\frac{\\partial}{\\partial \\theta_j}J(\\theta_0, \\theta_1) \\text{ for } j = 0,1$$\n",
    "\n",
    "where $$\\frac{\\partial}{\\partial \\theta_0}J(\\theta_0, \\theta_1) = \\frac{1}{N}\\Sigma ^N_{i=1} \\left( h_{\\theta}(x^{(i)}) - y^{(i)} \\right)$$\n",
    "\n",
    "$$\\frac{\\partial}{\\partial \\theta_1}J(\\theta_0, \\theta_1) = \\frac{1}{N}\\Sigma ^N_{i=1} \\left( h_{\\theta}(x^{(i)}) - y^{(i)} \\right)*x^{(i)}$$"
   ]
  },
  {
   "cell_type": "code",
   "execution_count": 10,
   "metadata": {},
   "outputs": [],
   "source": [
    "def H(x, θ_0, θ_1):\n",
    "    return θ_0 + x*θ_1\n",
    "\n",
    "def cost(x,y,θ_0,θ_1):\n",
    "    sum = 0\n",
    "    for i in range(len(x)):\n",
    "        sum += ( H(x[i], θ_0, θ_1) - y[i] )**2\n",
    "    return 1/(2*len(x)) * sum\n",
    "    \n",
    "\n",
    "def gradient_descent(x, y, α, tol, verbose=True):\n",
    "    assert len(x) == len(y)\n",
    "    N = len(x) \n",
    "    \n",
    "    θ_0, θ_1 = random(), random()\n",
    "    \n",
    "    while cost(x,y,θ_0,θ_1) > tol:\n",
    "        if verbose: print(\"Cost: \",cost(x,y,θ_0,θ_1))\n",
    "        temp0, temp1 = 0,0\n",
    "        for i in range(N):\n",
    "            temp0 += H(x[i], θ_0, θ_1) - y[i]\n",
    "            temp1 += (H(x[i], θ_0, θ_1) - y[i])*x[i]\n",
    "\n",
    "        θ_0 = θ_0 - α*temp0/N\n",
    "        θ_1 =  θ_1 - α*temp1/N\n",
    "\n",
    "\n",
    "\n",
    "    return θ_0, θ_1"
   ]
  },
  {
   "cell_type": "code",
   "execution_count": 11,
   "metadata": {},
   "outputs": [
    {
     "name": "stdout",
     "output_type": "stream",
     "text": [
      "Cost:  1.6659993488962521\n",
      "Cost:  0.916678582250924\n",
      "Cost:  0.6401596396330115\n",
      "Cost:  0.537902760371803\n"
     ]
    }
   ],
   "source": [
    "θ_0, θ_1 = gradient_descent(x,y,.01,0.5)"
   ]
  },
  {
   "cell_type": "code",
   "execution_count": 12,
   "metadata": {},
   "outputs": [
    {
     "data": {
      "image/png": "[encoded data removed]",
      "text/plain": [
       "<Figure size 432x288 with 1 Axes>"
      ]
     },
     "metadata": {
      "needs_background": "light"
     },
     "output_type": "display_data"
    }
   ],
   "source": [
    "plt.scatter(x,y, marker='x')\n",
    "plt.plot(x, θ_0+ x*θ_1, color=\"red\")\n",
    "plt.xlabel(\"Time spent learning ML [hours]\")\n",
    "plt.ylabel(\"Harrison's Attractiveness $[\\sigma$ from mean]\");"
   ]
  },
  {
   "cell_type": "markdown",
   "metadata": {},
   "source": [
    "# Multivariate Linear Regression\n",
    "$x^{(i)}_j\\equiv$ value of feature j in $i^{th}$ training example \n",
    "\n",
    "Our hypothesis now takes the form: $h_{\\theta} = \\theta_0 + \\Sigma ^N _{i = 1} x_i \\theta_i$\n",
    "\n",
    "For convience of notation, we can let $x_0 = 1$\n",
    "\n",
    "such that: $h_{\\theta} = \\vec{\\Theta}^T\\vec{X}$\n",
    "\n",
    "J is then: J$(\\vec{\\Theta})$ = $\\frac{1}{2N}\\Sigma ^N_{i=1} \\left( h_{\\theta}(x^{(i)}) - y^{(i)} \\right)^2$\n",
    "\n",
    "and finally our algorithm:\n",
    "$\\theta_j := \\theta_j -\\alpha \\frac{\\partial}{\\partial \\theta_j}J(\\vec{\\Theta})$\n",
    "\n",
    "$\\theta_j := \\theta_j -\\alpha \\frac{1}{N} \\Sigma ^N _{i=1} \\left( h_{\\theta} (x^{(i)}) - y^{(i)} \\right)x^{(i)}_j$ simultaneously update $\\theta_j$ for all j"
   ]
  },
  {
   "cell_type": "code",
   "execution_count": 36,
   "metadata": {},
   "outputs": [],
   "source": [
    "def H(x, θ): \n",
    "    return np.dot(x,θ)\n",
    "\n",
    "def cost(X, z, θ):\n",
    "    sum = 0\n",
    "    for i in range(len(X[1])):\n",
    "        sum += ( H(X[:,i], θ) - z[i] )**2\n",
    "    return 1/(2*len(X[1])) * sum\n",
    "    \n",
    "\n",
    "def multi_gradient_descent(X, z, α,tol, verbose=True):\n",
    "    '''X is an [i,j] matrix where i is the number of training \n",
    "    variables and j is the number of points.\n",
    "    z is the solution\n",
    "    α is the learning rate, proportional to the size of steps\n",
    "    tol is the tolerance of the solution accepted, evaulated \n",
    "    by the cost()'''\n",
    "    \n",
    "    assert len(X[0]) == len(z)\n",
    "    \n",
    "    X = np.vstack( (np.ones(len(X[1])), X) ) #add row of x_0's = 1\n",
    "    N, N_p = X.shape #Number of θ, Number of points\n",
    "\n",
    "    θ = rand(N)\n",
    "    \n",
    "    while cost(X, z, θ) > tol:\n",
    "        \n",
    "        if verbose: print(\"Cost: \",cost(X, z, θ))\n",
    "        temp = np.zeros(N)\n",
    "        for j in range(N):\n",
    "            for i in range(N_p):\n",
    "                temp += (H(X[:,i], θ) - z[i])*X[j,i]\n",
    "\n",
    "        θ = θ - α*temp/N\n",
    "\n",
    "    return θ"
   ]
  },
  {
   "cell_type": "code",
   "execution_count": 37,
   "metadata": {
    "scrolled": true
   },
   "outputs": [
    {
     "name": "stdout",
     "output_type": "stream",
     "text": [
      "Cost:  4.451229046864523\n",
      "Cost:  4.39959228183001\n",
      "Cost:  4.348563033147116\n",
      "Cost:  4.298134153270533\n",
      "Cost:  4.248298578747186\n",
      "Cost:  4.199049329226863\n",
      "Cost:  4.150379506484508\n",
      "Cost:  4.10228229345398\n",
      "Cost:  4.054750953273225\n",
      "Cost:  4.007778828340657\n",
      "Cost:  3.9613593393826196\n",
      "Cost:  3.9154859845318786\n",
      "Cost:  3.870152338416893\n",
      "Cost:  3.8253520512618437\n",
      "Cost:  3.7810788479972275\n",
      "Cost:  3.737326527380928\n",
      "Cost:  3.6940889611296215\n",
      "Cost:  3.651360093060397\n",
      "Cost:  3.609133938242492\n",
      "Cost:  3.5674045821589915\n",
      "Cost:  3.52616617987839\n",
      "Cost:  3.4854129552359163\n",
      "Cost:  3.4451392000244745\n",
      "Cost:  3.4053392731951067\n",
      "Cost:  3.3660076000668746\n",
      "Cost:  3.3271386715460127\n",
      "Cost:  3.288727043354296\n",
      "Cost:  3.250767335266463\n",
      "Cost:  3.2132542303566285\n",
      "Cost:  3.176182474253547\n",
      "Cost:  3.1395468744046555\n",
      "Cost:  3.1033422993487485\n",
      "Cost:  3.067563677997242\n",
      "Cost:  3.032205998923873\n",
      "Cost:  2.997264309662764\n",
      "Cost:  2.962733716014731\n",
      "Cost:  2.928609381361782\n",
      "Cost:  2.894886525989648\n",
      "Cost:  2.8615604264183077\n",
      "Cost:  2.828626414740386\n",
      "Cost:  2.7960798779673155\n",
      "Cost:  2.7639162573832223\n",
      "Cost:  2.732131047906389\n",
      "Cost:  2.700719797458241\n",
      "Cost:  2.6696781063397523\n",
      "Cost:  2.6390016266151948\n",
      "Cost:  2.608686061503127\n",
      "Cost:  2.5787271647745587\n",
      "Cost:  2.549120740158194\n",
      "Cost:  2.5198626407526614\n",
      "Cost:  2.4909487684456733\n",
      "Cost:  2.462375073340015\n",
      "Cost:  2.4341375531862735\n",
      "Cost:  2.4062322528222717\n",
      "Cost:  2.3786552636190574\n",
      "Cost:  2.351402722933449\n",
      "Cost:  2.3244708135669883\n",
      "Cost:  2.2978557632312886\n",
      "Cost:  2.271553844019646\n",
      "Cost:  2.2455613718848935\n",
      "Cost:  2.219874706123377\n",
      "Cost:  2.194490248865011\n",
      "Cost:  2.1694044445693343\n",
      "Cost:  2.1446137795275013\n",
      "Cost:  2.120114781370112\n",
      "Cost:  2.0959040185808533\n",
      "Cost:  2.0719781000158553\n",
      "Cost:  2.048333674428698\n",
      "Cost:  2.024967430001016\n",
      "Cost:  2.001876093878611\n",
      "Cost:  1.9790564317130395\n",
      "Cost:  1.9565052472085822\n",
      "Cost:  1.9342193816745459\n",
      "Cost:  1.9121957135828316\n",
      "Cost:  1.8904311581307134\n",
      "Cost:  1.8689226668087546\n",
      "Cost:  1.8476672269738117\n",
      "Cost:  1.8266618614270613\n",
      "Cost:  1.8059036279969882\n",
      "Cost:  1.7853896191272824\n",
      "Cost:  1.765116961469592\n",
      "Cost:  1.745082815481049\n",
      "Cost:  1.7252843750265492\n",
      "Cost:  1.7057188669856989\n",
      "Cost:  1.686383550864397\n",
      "Cost:  1.6672757184109732\n",
      "Cost:  1.6483926932368498\n",
      "Cost:  1.629731830441675\n",
      "Cost:  1.6112905162428501\n",
      "Cost:  1.5930661676094242\n",
      "Cost:  1.5750562319002972\n",
      "Cost:  1.5572581865066757\n",
      "Cost:  1.5396695384987384\n",
      "Cost:  1.5222878242764575\n",
      "Cost:  1.5051106092245272\n",
      "Cost:  1.4881354873713537\n",
      "Cost:  1.4713600810520573\n",
      "Cost:  1.4547820405754337\n",
      "Cost:  1.4383990438948446\n",
      "Cost:  1.422208796282973\n",
      "Cost:  1.4062090300104013\n",
      "Cost:  1.3903975040279821\n",
      "Cost:  1.3747720036529365\n",
      "Cost:  1.3593303402586476\n",
      "Cost:  1.3440703509681091\n",
      "Cost:  1.3289898983509716\n",
      "Cost:  1.314086870124161\n",
      "Cost:  1.2993591788560146\n",
      "Cost:  1.2848047616738987\n",
      "Cost:  1.2704215799752698\n",
      "Cost:  1.2562076191421296\n",
      "Cost:  1.242160888258843\n",
      "Cost:  1.2282794198332774\n",
      "Cost:  1.2145612695212193\n",
      "Cost:  1.2010045158540301\n",
      "Cost:  1.1876072599695193\n",
      "Cost:  1.1743676253459672\n",
      "Cost:  1.161283757539293\n",
      "Cost:  1.1483538239232973\n",
      "Cost:  1.135576013432983\n",
      "Cost:  1.122948536310871\n",
      "Cost:  1.1104696238563205\n",
      "Cost:  1.098137528177792\n",
      "Cost:  1.085950521948018\n",
      "Cost:  1.073906898162069\n",
      "Cost:  1.0620049698982508\n",
      "Cost:  1.050243070081823\n",
      "Cost:  1.0386195512514962\n",
      "Cost:  1.0271327853286771\n",
      "Cost:  1.015781163389425\n",
      "Cost:  1.0045630954390963\n",
      "Cost:  0.9934770101896371\n",
      "Cost:  0.9825213548394924\n",
      "Cost:  0.9716945948561175\n",
      "Cost:  0.9609952137610315\n",
      "Cost:  0.9504217129174114\n",
      "Cost:  0.939972611320182\n",
      "Cost:  0.9296464453885727\n",
      "Cost:  0.9194417687611207\n",
      "Cost:  0.9093571520930791\n",
      "Cost:  0.8993911828562144\n",
      "Cost:  0.8895424651409553\n",
      "Cost:  0.8798096194608731\n",
      "Cost:  0.870191282559458\n",
      "Cost:  0.8606861072191706\n",
      "Cost:  0.8512927620727457\n",
      "Cost:  0.8420099314167038\n",
      "Cost:  0.8328363150270685\n",
      "Cost:  0.823770627977245\n",
      "Cost:  0.8148116004580429\n",
      "Cost:  0.8059579775998178\n",
      "Cost:  0.79720851929671\n",
      "Cost:  0.7885620000329348\n",
      "Cost:  0.7800172087111354\n",
      "Cost:  0.7715729484827486\n",
      "Cost:  0.7632280365803578\n",
      "Cost:  0.7549813041520321\n",
      "Cost:  0.746831596097605\n",
      "Cost:  0.7387777709068826\n",
      "Cost:  0.7308187004997558\n",
      "Cost:  0.7229532700681928\n",
      "Cost:  0.7151803779200883\n",
      "Cost:  0.7074989353249556\n",
      "Cost:  0.6999078663614281\n",
      "Cost:  0.6924061077665609\n",
      "Cost:  0.6849926087868958\n",
      "Cost:  0.6776663310312911\n",
      "Cost:  0.6704262483254744\n",
      "Cost:  0.6632713465683069\n",
      "Cost:  0.6562006235897441\n",
      "Cost:  0.6492130890104618\n",
      "Cost:  0.6423077641031356\n",
      "Cost:  0.635483681655356\n",
      "Cost:  0.6287398858341503\n",
      "Cost:  0.622075432052102\n",
      "Cost:  0.615489386835046\n",
      "Cost:  0.6089808276913177\n",
      "Cost:  0.6025488429825412\n",
      "Cost:  0.5961925317959407\n",
      "Cost:  0.5899110038181491\n",
      "Cost:  0.5837033792105073\n",
      "Cost:  0.5775687884858229\n",
      "Cost:  0.5715063723865865\n",
      "Cost:  0.5655152817646169\n",
      "Cost:  0.5595946774621212\n",
      "Cost:  0.5537437301941601\n",
      "Cost:  0.5479616204324861\n",
      "Cost:  0.5422475382907586\n",
      "Cost:  0.5366006834111042\n",
      "Cost:  0.5310202648520116\n",
      "Cost:  0.5255055009775462\n",
      "Cost:  0.5200556193478695\n",
      "Cost:  0.5146698566110438\n",
      "Cost:  0.5093474583961113\n",
      "Cost:  0.504087679207433\n",
      "Cost:  0.4988897823202678\n",
      "Cost:  0.4937530396775802\n",
      "Cost:  0.4886767317880656\n",
      "Cost:  0.48366014762536924\n",
      "Cost:  0.4787025845284979\n",
      "Cost:  0.4738033481033984\n",
      "Cost:  0.46896175212569435\n",
      "Cost:  0.4641771184445719\n",
      "Cost:  0.45944877688778807\n",
      "Cost:  0.45477606516780456\n",
      "Cost:  0.45015832878902207\n",
      "Cost:  0.445594920956106\n",
      "Cost:  0.4410852024833914\n",
      "Cost:  0.43662854170535453\n",
      "Cost:  0.43222431438813746\n",
      "Cost:  0.4278719036421106\n",
      "Cost:  0.4235706998354684\n",
      "Cost:  0.4193201005088404\n",
      "Cost:  0.4151195102909034\n",
      "Cost:  0.41096834081499334\n",
      "Cost:  0.4068660106366891\n",
      "Cost:  0.40281194515237567\n",
      "Cost:  0.3988055765187575\n",
      "Cost:  0.39484634357332377\n",
      "Cost:  0.3909336917557477\n",
      "Cost:  0.3870670730302088\n",
      "Cost:  0.38324594580863325\n",
      "Cost:  0.37946977487483435\n",
      "Cost:  0.37573803130954386\n",
      "Cost:  0.37205019241633036\n",
      "Cost:  0.36840574164838436\n",
      "Cost:  0.36480416853616915\n",
      "Cost:  0.3612449686159181\n",
      "Cost:  0.3577276433589771\n",
      "Cost:  0.3542517001019755\n",
      "Cost:  0.350816651977822\n",
      "Cost:  0.34742201784750804\n",
      "Cost:  0.34406732223271735\n",
      "Cost:  0.34075209524922767\n",
      "Cost:  0.3374758725410916\n",
      "Cost:  0.3342381952155993\n",
      "Cost:  0.33103860977899985\n",
      "Cost:  0.3278766680729832\n",
      "Cost:  0.32475192721190677\n",
      "Cost:  0.32166394952076144\n",
      "Cost:  0.31861230247386835\n",
      "Cost:  0.31559655863429525\n",
      "Cost:  0.3126162955939855\n",
      "Cost:  0.30967109591459535\n",
      "Cost:  0.3067605470690207\n",
      "Cost:  0.303884241383619\n",
      "Cost:  0.3010417759811039\n",
      "Cost:  0.2982327527241178\n",
      "Cost:  0.29545677815946475\n",
      "Cost:  0.29271346346299976\n",
      "Cost:  0.2900024243851689\n",
      "Cost:  0.28732328119718564\n",
      "Cost:  0.28467565863784644\n",
      "Cost:  0.282059185860966\n",
      "Cost:  0.2794734963834355\n",
      "Cost:  0.2769182280338891\n",
      "Cost:  0.27439302290197615\n",
      "Cost:  0.27189752728822947\n",
      "Cost:  0.2694313916545225\n",
      "Cost:  0.266994270575112\n",
      "Cost:  0.2645858226882535\n",
      "Cost:  0.26220571064838893\n",
      "Cost:  0.2598536010788945\n",
      "Cost:  0.25752916452538627\n",
      "Cost:  0.255232075409573\n",
      "Cost:  0.25296201198365403\n",
      "Cost:  0.25071865628525336\n",
      "Cost:  0.24850169409288203\n",
      "Cost:  0.24631081488192633\n",
      "Cost:  0.2441457117811548\n",
      "Cost:  0.24200608152973324\n",
      "Cost:  0.23989162443474943\n",
      "Cost:  0.2378020443292348\n",
      "Cost:  0.23573704853068192\n",
      "Cost:  0.2336963478000482\n",
      "Cost:  0.23167965630124387\n",
      "Cost:  0.22968669156109428\n",
      "Cost:  0.22771717442977543\n",
      "Cost:  0.2257708290417152\n",
      "Cost:  0.22384738277695104\n",
      "Cost:  0.2219465662229467\n",
      "Cost:  0.2200681131368552\n",
      "Cost:  0.21821176040822776\n",
      "Cost:  0.2163772480221594\n",
      "Cost:  0.21456431902287096\n",
      "Cost:  0.21277271947771534\n",
      "Cost:  0.21100219844161222\n",
      "Cost:  0.2092525079218982\n",
      "Cost:  0.20752340284358978\n",
      "Cost:  0.20581464101505764\n",
      "Cost:  0.20412598309410268\n",
      "Cost:  0.20245719255443287\n",
      "Cost:  0.20080803565253272\n"
     ]
    },
    {
     "data": {
      "image/png": "[encoded data removed]",
      "text/plain": [
       "<Figure size 432x288 with 1 Axes>"
      ]
     },
     "metadata": {
      "needs_background": "light"
     },
     "output_type": "display_data"
    }
   ],
   "source": [
    "x = [1,2,3,4,5,6,7,8,9,10]\n",
    "y = [1,2,3,4,5,6,7,8,9,10]\n",
    "z = [1,2,3,4,5,6,7,8,9,10]\n",
    "\n",
    "X = np.array([x,y])\n",
    "θ = multi_gradient_descent(X, z, .00001, 0.2, verbose=True)\n",
    "\n",
    "fig = plt.figure()\n",
    "ax = fig.add_subplot(111, projection='3d')\n",
    "\n",
    "ax.scatter(x,y,z)\n",
    "ax.plot(x,y, θ[0] + np.array(x)*θ[1] + np.array(y)*θ[2], color='red')\n",
    "ax.set_xlabel('x')\n",
    "ax.set_ylabel('y')\n",
    "ax.set_zlabel('z  ');"
   ]
  },
  {
   "cell_type": "markdown",
   "metadata": {},
   "source": [
    "**Notes about gradient descent:**\n",
    "\n",
    "It will most likely get stuck in a local minima and not find a global minimum. \n",
    "\n",
    "Feature scaling - make sure features are on a similiar scale. If scale is too big in one direction, it will have a much harder time because it will traverse in the direction of steepest descent. Generally, just get all features in the -1 < $x_i$ < 1\n",
    "\n",
    "- Mean normalization - replace $x_i$ with $x_i - \\mu_i$ to make features have an approximatley zero mean. Obviously don't apply to $x_0$ which is just an array of 1s\n",
    "\n",
    "How to choose a learning rate $\\alpha$:\n",
    "- Cost function $J(\\theta)$ should decrease after every iteration\n",
    "- plot of cost function vs no. of iterations can be helpful in seeing whats going on\n",
    "- If $\\alpha$ is too small, there will be a slow convergence. If it's too large, it may not decrease on every iteration, may not converge at all."
   ]
  },
  {
   "cell_type": "markdown",
   "metadata": {},
   "source": [
    "# Polynomial Regression\n",
    "\n",
    "Lets say we know housing cost scales as a function of area. But it's not linear, it's say cubic. Letting x = area we can write our cost function:\n",
    "\n",
    "Cost = $\\theta_0 +\\theta_1 x_1 + \\theta_2 x^2 + \\theta_3x^3 + \\theta_4 \\sqrt{x}$\n",
    "\n",
    "by writing it in this nature, this still enables us to use all our tools for linear regression, with just a simple switch of cost function."
   ]
  },
  {
   "cell_type": "code",
   "execution_count": 15,
   "metadata": {},
   "outputs": [],
   "source": [
    "def H(x, θ): \n",
    "    return x[0]*θ[0] + x[1]*θ[1] * x[1]**2*θ[2] + x[1]**3*θ[3] + x[1]*np.sqrt(x[1])\n",
    "\n",
    "x = [1,2,3,4,5,6,7,8,9,10]\n",
    "z = [1,2,3,4,5,6,7,8,9,10]\n",
    "\n",
    "X = np.array(x)**2\n",
    "fixed = False\n",
    "if fixed:\n",
    "#in order for this to work i need to restructure multi_gradient_descent to independely input \n",
    "#number of theta, not depend on length. It's not really worth doing right now I think. but maybe I'll come \n",
    "#back to it.\n",
    "\n",
    "    θ = multi_gradient_descent(X, z, .00001, 2, verbose=True)\n",
    "\n",
    "    fig = plt.figure()\n",
    "    ax = fig.add_subplot(111, projection='3d')\n",
    "\n",
    "    ax.scatter(x,y,z)\n",
    "    ax.plot(x,y, θ[0] + np.array(x)*θ[1] + np.array(y)*θ[2])\n",
    "    ax.set_xlabel('x')\n",
    "    ax.set_ylabel('y')\n",
    "    ax.set_zlabel('z  ');"
   ]
  },
  {
   "cell_type": "markdown",
   "metadata": {},
   "source": [
    "# Normal Equation \n",
    "- A different way to solve for optimal $\\theta$, but this time it's analytic.\n",
    "\n",
    "Normal Equation: $\\theta = (X^TX)^{-1}X^Ty$\n",
    "\n",
    "X is called the \"Design Matrix\"\n",
    "\n",
    "What if $X^TX$ is non-invertible? Singular/degenerate\n",
    " - There are redundant features (Linearly dependent).\n",
    " - Too many features. If you fit a parameter vector $theta$ of size 100 on 10 examples. \n",
    "\n",
    "We can use the pseudoinverse.\n",
    "\n",
    "\n",
    "To find minimum: (Derived from:)\n",
    "\n",
    "$\\frac{\\partial}{\\partial \\theta_j}J(\\theta) = .... = 0$ (for every j)\n",
    "Solve for $\\theta_0, \\theta_1, \\theta_2... $\n",
    "\n",
    "Below is an example:"
   ]
  },
  {
   "cell_type": "code",
   "execution_count": 16,
   "metadata": {},
   "outputs": [],
   "source": [
    "#Can we predict housing cost y from x1-x4 data?\n",
    "x0 = [1,1,1,1] #extra row of 1s always for constant at begginining\n",
    "x1 = [2104, 1416, 1534, 852] #size in square feet.\n",
    "x2 = [5,3,3,2] #Number of bedrooms\n",
    "x3 = [1,2,2,1] #Number of floors\n",
    "x4 = [45, 40, 30,36] #age of house\n",
    "y = [460, 232, 315, 178] #price of home in $1ks\n",
    "\n",
    "X = np.array([x0, x1, x2, x3, x4]).T\n",
    "Y = np.array(y).T"
   ]
  },
  {
   "cell_type": "code",
   "execution_count": 17,
   "metadata": {},
   "outputs": [
    {
     "name": "stdout",
     "output_type": "stream",
     "text": [
      "X =  [[   1 2104    5    1   45]\n",
      " [   1 1416    3    2   40]\n",
      " [   1 1534    3    2   30]\n",
      " [   1  852    2    1   36]]\n",
      "\n",
      "\n",
      "Y =  [460 232 315 178]\n"
     ]
    }
   ],
   "source": [
    "print(\"X = \",X)\n",
    "print(\"\\n\")\n",
    "print(\"Y = \", Y)"
   ]
  },
  {
   "cell_type": "code",
   "execution_count": 18,
   "metadata": {},
   "outputs": [
    {
     "name": "stdout",
     "output_type": "stream",
     "text": [
      "[188.40031945   0.3866255  -56.13824955 -92.9672536   -3.73781915]\n"
     ]
    }
   ],
   "source": [
    "𝜃 = np.matmul( np.matmul( np.linalg.pinv( np.matmul(X.T, X)), X.T), Y)\n",
    "\n",
    "#Is this actually how you multiply matrices in python?! What the hell\n",
    "print(𝜃) \n",
    "#𝜃[0]+ 𝜃[1]*x1 + 𝜃[2]*x2 + 𝜃[3]*x3 + 𝜃[4]*x4"
   ]
  },
  {
   "cell_type": "markdown",
   "metadata": {},
   "source": [
    "## Pros and Cons:\n",
    "Gradient Descent \n",
    " - Need to choose $\\alpha$\n",
    " - Needs many iterations\n",
    " - Works well with large number of features\n",
    " \n",
    "Normal Equation \n",
    "- No need to choose $\\alpha$\n",
    "- No need to iterate\n",
    "- No need to feature scale\n",
    "- If we have a large number of features, this gets really slow"
   ]
  },
  {
   "cell_type": "markdown",
   "metadata": {},
   "source": [
    "# Logistic Regression\n",
    "Using linear regression on classification problems is not a good idea. There can be a clear trend in data, but adding another data point, that still follows that trend will cause the line to shift. For example, if we have more data on one side than the other, linear regression will natrually shift towards that side, even if it's not following the trend. We turn to **logistic regression**.\n",
    "\n",
    "We want: $ 0 \\leq h_{\\theta}(x) \\leq 1$\n",
    "$h_{\\theta}$\n",
    "\n",
    "$ h_{\\theta} = g(\\vec{\\theta} \\cdot \\vec{x}) $\n",
    "\n",
    "where: $g(z) = \\frac{1}{1+e^{-z}} \\implies$ This is the **sigmoid function** aka the **logistic function**\n",
    "\n",
    "$h_{\\theta}(x) = \\frac{1}{1+e^{-\\vec{\\theta} \\cdot \\vec{x}}}$\n",
    "\n",
    "This will work well for classification problems (0 or 1), either a tumor or not a tumor. The output will be [0,1] which corresponds to the percent chance. A 0.70 = 70% chance of being paramater 1"
   ]
  },
  {
   "cell_type": "code",
   "execution_count": 32,
   "metadata": {},
   "outputs": [
    {
     "data": {
      "image/png": "[encoded data removed]",
      "text/plain": [
       "<Figure size 432x288 with 1 Axes>"
      ]
     },
     "metadata": {
      "needs_background": "light"
     },
     "output_type": "display_data"
    }
   ],
   "source": [
    "x = np.arange(-10,10,.001)\n",
    "def sigmoid(x):\n",
    "    return 1/(1+np.exp(-x))\n",
    "y = sigmoid(x)\n",
    "plt.plot(x,y)\n",
    "plt.title(\"Sigmoid Function\");"
   ]
  },
  {
   "cell_type": "code",
   "execution_count": null,
   "metadata": {},
   "outputs": [],
   "source": []
  },
  {
   "cell_type": "code",
   "execution_count": null,
   "metadata": {},
   "outputs": [],
   "source": []
  },
  {
   "cell_type": "code",
   "execution_count": 29,
   "metadata": {},
   "outputs": [
    {
     "data": {
      "text/plain": [
       "True"
      ]
     },
     "execution_count": 29,
     "metadata": {},
     "output_type": "execute_result"
    }
   ],
   "source": [
    "#hahahahahha\n",
    "x = [1,2,3]\n",
    "type(np.array(np.array(x))) == type(np.array(x))"
   ]
  }
 ],
 "metadata": {
  "kernelspec": {
   "display_name": "Python 3",
   "language": "python",
   "name": "python3"
  },
  "language_info": {
   "codemirror_mode": {
    "name": "ipython",
    "version": 3
   },
   "file_extension": ".py",
   "mimetype": "text/x-python",
   "name": "python",
   "nbconvert_exporter": "python",
   "pygments_lexer": "ipython3",
   "version": "3.8.0"
  }
 },
 "nbformat": 4,
 "nbformat_minor": 2
}
